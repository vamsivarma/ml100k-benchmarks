{
  "nbformat": 4,
  "nbformat_minor": 0,
  "metadata": {
    "colab": {
      "name": "Auto-sklearn for ml-100k.ipynb",
      "provenance": [],
      "collapsed_sections": []
    },
    "kernelspec": {
      "name": "python3",
      "display_name": "Python 3"
    }
  },
  "cells": [
    {
      "cell_type": "markdown",
      "metadata": {
        "id": "eXRNY_KqSBmy"
      },
      "source": [
        "## Setting up scikit-learn"
      ]
    },
    {
      "cell_type": "code",
      "metadata": {
        "colab": {
          "base_uri": "https://localhost:8080/"
        },
        "id": "4tINuUSbK2XB",
        "outputId": "9e1c4c72-ffbf-46ae-aafc-fe2eba3d2380"
      },
      "source": [
        "!sudo apt-get install build-essential swig\n",
        "!curl https://raw.githubusercontent.com/automl/auto-sklearn/master/requirements.txt | xargs -n 1 -L 1 pip install\n",
        "!pip install auto-sklearn"
      ],
      "execution_count": null,
      "outputs": [
        {
          "output_type": "stream",
          "text": [
            "Reading package lists... Done\n",
            "Building dependency tree       \n",
            "Reading state information... Done\n",
            "build-essential is already the newest version (12.4ubuntu1).\n",
            "swig is already the newest version (3.0.12-1).\n",
            "0 upgraded, 0 newly installed, 0 to remove and 16 not upgraded.\n",
            "  % Total    % Received % Xferd  Average Speed   Time    Time     Time  Current\n",
            "                                 Dload  Upload   Total   Spent    Left  Speed\n",
            "100   207  100   207    0     0    862      0 --:--:-- --:--:-- --:--:--   862\n",
            "Requirement already satisfied: setuptools in /usr/local/lib/python3.6/dist-packages (51.1.1)\n",
            "Requirement already satisfied: numpy>=1.9.0 in /usr/local/lib/python3.6/dist-packages (1.19.5)\n",
            "Requirement already satisfied: scipy>=0.14.1 in /usr/local/lib/python3.6/dist-packages (1.4.1)\n",
            "Requirement already satisfied: numpy>=1.13.3 in /usr/local/lib/python3.6/dist-packages (from scipy>=0.14.1) (1.19.5)\n",
            "Requirement already satisfied: joblib in /usr/local/lib/python3.6/dist-packages (1.0.0)\n",
            "Requirement already satisfied: scikit-learn<0.25.0,>=0.24.0 in /usr/local/lib/python3.6/dist-packages (0.24.0)\n",
            "Requirement already satisfied: joblib>=0.11 in /usr/local/lib/python3.6/dist-packages (from scikit-learn<0.25.0,>=0.24.0) (1.0.0)\n",
            "Requirement already satisfied: numpy>=1.13.3 in /usr/local/lib/python3.6/dist-packages (from scikit-learn<0.25.0,>=0.24.0) (1.19.5)\n",
            "Requirement already satisfied: scipy>=0.19.1 in /usr/local/lib/python3.6/dist-packages (from scikit-learn<0.25.0,>=0.24.0) (1.4.1)\n",
            "Requirement already satisfied: threadpoolctl>=2.0.0 in /usr/local/lib/python3.6/dist-packages (from scikit-learn<0.25.0,>=0.24.0) (2.1.0)\n",
            "Requirement already satisfied: dask in /usr/local/lib/python3.6/dist-packages (2020.12.0)\n",
            "Requirement already satisfied: pyyaml in /usr/local/lib/python3.6/dist-packages (from dask) (3.13)\n",
            "Requirement already satisfied: distributed>=2.2.0 in /usr/local/lib/python3.6/dist-packages (2020.12.0)\n",
            "Requirement already satisfied: contextvars; python_version < \"3.7\" in /usr/local/lib/python3.6/dist-packages (from distributed>=2.2.0) (2.4)\n",
            "Requirement already satisfied: toolz>=0.8.2 in /usr/local/lib/python3.6/dist-packages (from distributed>=2.2.0) (0.11.1)\n",
            "Requirement already satisfied: dask>=2020.12.0 in /usr/local/lib/python3.6/dist-packages (from distributed>=2.2.0) (2020.12.0)\n",
            "Requirement already satisfied: tornado>=5; python_version < \"3.8\" in /usr/local/lib/python3.6/dist-packages (from distributed>=2.2.0) (5.1.1)\n",
            "Requirement already satisfied: tblib>=1.6.0 in /usr/local/lib/python3.6/dist-packages (from distributed>=2.2.0) (1.7.0)\n",
            "Requirement already satisfied: msgpack>=0.6.0 in /usr/local/lib/python3.6/dist-packages (from distributed>=2.2.0) (1.0.2)\n",
            "Requirement already satisfied: cloudpickle>=1.5.0 in /usr/local/lib/python3.6/dist-packages (from distributed>=2.2.0) (1.6.0)\n",
            "Requirement already satisfied: sortedcontainers!=2.0.0,!=2.0.1 in /usr/local/lib/python3.6/dist-packages (from distributed>=2.2.0) (2.3.0)\n",
            "Requirement already satisfied: pyyaml in /usr/local/lib/python3.6/dist-packages (from distributed>=2.2.0) (3.13)\n",
            "Requirement already satisfied: setuptools in /usr/local/lib/python3.6/dist-packages (from distributed>=2.2.0) (51.1.1)\n",
            "Requirement already satisfied: zict>=0.1.3 in /usr/local/lib/python3.6/dist-packages (from distributed>=2.2.0) (2.0.0)\n",
            "Requirement already satisfied: click>=6.6 in /usr/local/lib/python3.6/dist-packages (from distributed>=2.2.0) (7.1.2)\n",
            "Requirement already satisfied: psutil>=5.0 in /usr/local/lib/python3.6/dist-packages (from distributed>=2.2.0) (5.4.8)\n",
            "Requirement already satisfied: immutables>=0.9 in /usr/local/lib/python3.6/dist-packages (from contextvars; python_version < \"3.7\"->distributed>=2.2.0) (0.14)\n",
            "Requirement already satisfied: heapdict in /usr/local/lib/python3.6/dist-packages (from zict>=0.1.3->distributed>=2.2.0) (1.0.1)\n",
            "Requirement already satisfied: pyyaml in /usr/local/lib/python3.6/dist-packages (3.13)\n",
            "Requirement already satisfied: pandas>=1.0 in /usr/local/lib/python3.6/dist-packages (1.1.5)\n",
            "Requirement already satisfied: python-dateutil>=2.7.3 in /usr/local/lib/python3.6/dist-packages (from pandas>=1.0) (2.8.1)\n",
            "Requirement already satisfied: pytz>=2017.2 in /usr/local/lib/python3.6/dist-packages (from pandas>=1.0) (2018.9)\n",
            "Requirement already satisfied: numpy>=1.15.4 in /usr/local/lib/python3.6/dist-packages (from pandas>=1.0) (1.19.5)\n",
            "Requirement already satisfied: six>=1.5 in /usr/local/lib/python3.6/dist-packages (from python-dateutil>=2.7.3->pandas>=1.0) (1.15.0)\n",
            "Requirement already satisfied: liac-arff in /usr/local/lib/python3.6/dist-packages (2.5.0)\n",
            "Requirement already satisfied: ConfigSpace<0.5,>=0.4.14 in /usr/local/lib/python3.6/dist-packages (0.4.17)\n",
            "Requirement already satisfied: numpy in /usr/local/lib/python3.6/dist-packages (from ConfigSpace<0.5,>=0.4.14) (1.19.5)\n",
            "Requirement already satisfied: pyparsing in /usr/local/lib/python3.6/dist-packages (from ConfigSpace<0.5,>=0.4.14) (2.4.7)\n",
            "Requirement already satisfied: cython in /usr/local/lib/python3.6/dist-packages (from ConfigSpace<0.5,>=0.4.14) (0.29.21)\n",
            "Requirement already satisfied: pynisher>=0.6.3 in /usr/local/lib/python3.6/dist-packages (0.6.3)\n",
            "Requirement already satisfied: docutils>=0.3 in /usr/local/lib/python3.6/dist-packages (from pynisher>=0.6.3) (0.16)\n",
            "Requirement already satisfied: psutil in /usr/local/lib/python3.6/dist-packages (from pynisher>=0.6.3) (5.4.8)\n",
            "Requirement already satisfied: setuptools in /usr/local/lib/python3.6/dist-packages (from pynisher>=0.6.3) (51.1.1)\n",
            "Requirement already satisfied: pyrfr<0.9,>=0.7 in /usr/local/lib/python3.6/dist-packages (0.8.0)\n",
            "Requirement already satisfied: smac<0.14,>=0.13.1 in /usr/local/lib/python3.6/dist-packages (0.13.1)\n",
            "Requirement already satisfied: dask in /usr/local/lib/python3.6/dist-packages (from smac<0.14,>=0.13.1) (2020.12.0)\n",
            "Requirement already satisfied: pynisher>=0.4.1 in /usr/local/lib/python3.6/dist-packages (from smac<0.14,>=0.13.1) (0.6.3)\n",
            "Requirement already satisfied: joblib in /usr/local/lib/python3.6/dist-packages (from smac<0.14,>=0.13.1) (1.0.0)\n",
            "Requirement already satisfied: lazy-import in /usr/local/lib/python3.6/dist-packages (from smac<0.14,>=0.13.1) (0.2.2)\n",
            "Requirement already satisfied: distributed in /usr/local/lib/python3.6/dist-packages (from smac<0.14,>=0.13.1) (2020.12.0)\n",
            "Requirement already satisfied: pyrfr>=0.8.0 in /usr/local/lib/python3.6/dist-packages (from smac<0.14,>=0.13.1) (0.8.0)\n",
            "Requirement already satisfied: scipy>=0.18.1 in /usr/local/lib/python3.6/dist-packages (from smac<0.14,>=0.13.1) (1.4.1)\n",
            "Requirement already satisfied: numpy>=1.7.1 in /usr/local/lib/python3.6/dist-packages (from smac<0.14,>=0.13.1) (1.19.5)\n",
            "Requirement already satisfied: scikit-learn>=0.22.0 in /usr/local/lib/python3.6/dist-packages (from smac<0.14,>=0.13.1) (0.24.0)\n",
            "Requirement already satisfied: ConfigSpace<0.5,>=0.4.14 in /usr/local/lib/python3.6/dist-packages (from smac<0.14,>=0.13.1) (0.4.17)\n",
            "Requirement already satisfied: psutil in /usr/local/lib/python3.6/dist-packages (from smac<0.14,>=0.13.1) (5.4.8)\n",
            "Requirement already satisfied: pyyaml in /usr/local/lib/python3.6/dist-packages (from dask->smac<0.14,>=0.13.1) (3.13)\n",
            "Requirement already satisfied: docutils>=0.3 in /usr/local/lib/python3.6/dist-packages (from pynisher>=0.4.1->smac<0.14,>=0.13.1) (0.16)\n",
            "Requirement already satisfied: setuptools in /usr/local/lib/python3.6/dist-packages (from pynisher>=0.4.1->smac<0.14,>=0.13.1) (51.1.1)\n",
            "Requirement already satisfied: six in /usr/local/lib/python3.6/dist-packages (from lazy-import->smac<0.14,>=0.13.1) (1.15.0)\n",
            "Requirement already satisfied: tornado>=5; python_version < \"3.8\" in /usr/local/lib/python3.6/dist-packages (from distributed->smac<0.14,>=0.13.1) (5.1.1)\n",
            "Requirement already satisfied: click>=6.6 in /usr/local/lib/python3.6/dist-packages (from distributed->smac<0.14,>=0.13.1) (7.1.2)\n",
            "Requirement already satisfied: toolz>=0.8.2 in /usr/local/lib/python3.6/dist-packages (from distributed->smac<0.14,>=0.13.1) (0.11.1)\n",
            "Requirement already satisfied: zict>=0.1.3 in /usr/local/lib/python3.6/dist-packages (from distributed->smac<0.14,>=0.13.1) (2.0.0)\n",
            "Requirement already satisfied: cloudpickle>=1.5.0 in /usr/local/lib/python3.6/dist-packages (from distributed->smac<0.14,>=0.13.1) (1.6.0)\n",
            "Requirement already satisfied: contextvars; python_version < \"3.7\" in /usr/local/lib/python3.6/dist-packages (from distributed->smac<0.14,>=0.13.1) (2.4)\n",
            "Requirement already satisfied: sortedcontainers!=2.0.0,!=2.0.1 in /usr/local/lib/python3.6/dist-packages (from distributed->smac<0.14,>=0.13.1) (2.3.0)\n",
            "Requirement already satisfied: msgpack>=0.6.0 in /usr/local/lib/python3.6/dist-packages (from distributed->smac<0.14,>=0.13.1) (1.0.2)\n",
            "Requirement already satisfied: tblib>=1.6.0 in /usr/local/lib/python3.6/dist-packages (from distributed->smac<0.14,>=0.13.1) (1.7.0)\n",
            "Requirement already satisfied: threadpoolctl>=2.0.0 in /usr/local/lib/python3.6/dist-packages (from scikit-learn>=0.22.0->smac<0.14,>=0.13.1) (2.1.0)\n",
            "Requirement already satisfied: cython in /usr/local/lib/python3.6/dist-packages (from ConfigSpace<0.5,>=0.4.14->smac<0.14,>=0.13.1) (0.29.21)\n",
            "Requirement already satisfied: pyparsing in /usr/local/lib/python3.6/dist-packages (from ConfigSpace<0.5,>=0.4.14->smac<0.14,>=0.13.1) (2.4.7)\n",
            "Requirement already satisfied: heapdict in /usr/local/lib/python3.6/dist-packages (from zict>=0.1.3->distributed->smac<0.14,>=0.13.1) (1.0.1)\n",
            "Requirement already satisfied: immutables>=0.9 in /usr/local/lib/python3.6/dist-packages (from contextvars; python_version < \"3.7\"->distributed->smac<0.14,>=0.13.1) (0.14)\n",
            "Requirement already satisfied: auto-sklearn in /usr/local/lib/python3.6/dist-packages (0.12.1)\n",
            "Requirement already satisfied: pandas>=1.0 in /usr/local/lib/python3.6/dist-packages (from auto-sklearn) (1.1.5)\n",
            "Requirement already satisfied: scipy>=0.14.1 in /usr/local/lib/python3.6/dist-packages (from auto-sklearn) (1.4.1)\n",
            "Requirement already satisfied: distributed>=2.2.0 in /usr/local/lib/python3.6/dist-packages (from auto-sklearn) (2020.12.0)\n",
            "Requirement already satisfied: joblib in /usr/local/lib/python3.6/dist-packages (from auto-sklearn) (1.0.0)\n",
            "Requirement already satisfied: liac-arff in /usr/local/lib/python3.6/dist-packages (from auto-sklearn) (2.5.0)\n",
            "Requirement already satisfied: numpy>=1.9.0 in /usr/local/lib/python3.6/dist-packages (from auto-sklearn) (1.19.5)\n",
            "Requirement already satisfied: pyrfr<0.9,>=0.7 in /usr/local/lib/python3.6/dist-packages (from auto-sklearn) (0.8.0)\n",
            "Requirement already satisfied: smac<0.14,>=0.13.1 in /usr/local/lib/python3.6/dist-packages (from auto-sklearn) (0.13.1)\n",
            "Requirement already satisfied: ConfigSpace<0.5,>=0.4.14 in /usr/local/lib/python3.6/dist-packages (from auto-sklearn) (0.4.17)\n",
            "Requirement already satisfied: scikit-learn<0.25.0,>=0.24.0 in /usr/local/lib/python3.6/dist-packages (from auto-sklearn) (0.24.0)\n",
            "Requirement already satisfied: dask in /usr/local/lib/python3.6/dist-packages (from auto-sklearn) (2020.12.0)\n",
            "Requirement already satisfied: pyyaml in /usr/local/lib/python3.6/dist-packages (from auto-sklearn) (3.13)\n",
            "Requirement already satisfied: setuptools in /usr/local/lib/python3.6/dist-packages (from auto-sklearn) (51.1.1)\n",
            "Requirement already satisfied: pynisher>=0.6.3 in /usr/local/lib/python3.6/dist-packages (from auto-sklearn) (0.6.3)\n",
            "Requirement already satisfied: python-dateutil>=2.7.3 in /usr/local/lib/python3.6/dist-packages (from pandas>=1.0->auto-sklearn) (2.8.1)\n",
            "Requirement already satisfied: pytz>=2017.2 in /usr/local/lib/python3.6/dist-packages (from pandas>=1.0->auto-sklearn) (2018.9)\n",
            "Requirement already satisfied: zict>=0.1.3 in /usr/local/lib/python3.6/dist-packages (from distributed>=2.2.0->auto-sklearn) (2.0.0)\n",
            "Requirement already satisfied: msgpack>=0.6.0 in /usr/local/lib/python3.6/dist-packages (from distributed>=2.2.0->auto-sklearn) (1.0.2)\n",
            "Requirement already satisfied: tornado>=5; python_version < \"3.8\" in /usr/local/lib/python3.6/dist-packages (from distributed>=2.2.0->auto-sklearn) (5.1.1)\n",
            "Requirement already satisfied: cloudpickle>=1.5.0 in /usr/local/lib/python3.6/dist-packages (from distributed>=2.2.0->auto-sklearn) (1.6.0)\n",
            "Requirement already satisfied: contextvars; python_version < \"3.7\" in /usr/local/lib/python3.6/dist-packages (from distributed>=2.2.0->auto-sklearn) (2.4)\n",
            "Requirement already satisfied: toolz>=0.8.2 in /usr/local/lib/python3.6/dist-packages (from distributed>=2.2.0->auto-sklearn) (0.11.1)\n",
            "Requirement already satisfied: psutil>=5.0 in /usr/local/lib/python3.6/dist-packages (from distributed>=2.2.0->auto-sklearn) (5.4.8)\n",
            "Requirement already satisfied: tblib>=1.6.0 in /usr/local/lib/python3.6/dist-packages (from distributed>=2.2.0->auto-sklearn) (1.7.0)\n",
            "Requirement already satisfied: sortedcontainers!=2.0.0,!=2.0.1 in /usr/local/lib/python3.6/dist-packages (from distributed>=2.2.0->auto-sklearn) (2.3.0)\n",
            "Requirement already satisfied: click>=6.6 in /usr/local/lib/python3.6/dist-packages (from distributed>=2.2.0->auto-sklearn) (7.1.2)\n",
            "Requirement already satisfied: lazy-import in /usr/local/lib/python3.6/dist-packages (from smac<0.14,>=0.13.1->auto-sklearn) (0.2.2)\n",
            "Requirement already satisfied: cython in /usr/local/lib/python3.6/dist-packages (from ConfigSpace<0.5,>=0.4.14->auto-sklearn) (0.29.21)\n",
            "Requirement already satisfied: pyparsing in /usr/local/lib/python3.6/dist-packages (from ConfigSpace<0.5,>=0.4.14->auto-sklearn) (2.4.7)\n",
            "Requirement already satisfied: threadpoolctl>=2.0.0 in /usr/local/lib/python3.6/dist-packages (from scikit-learn<0.25.0,>=0.24.0->auto-sklearn) (2.1.0)\n",
            "Requirement already satisfied: docutils>=0.3 in /usr/local/lib/python3.6/dist-packages (from pynisher>=0.6.3->auto-sklearn) (0.16)\n",
            "Requirement already satisfied: six>=1.5 in /usr/local/lib/python3.6/dist-packages (from python-dateutil>=2.7.3->pandas>=1.0->auto-sklearn) (1.15.0)\n",
            "Requirement already satisfied: heapdict in /usr/local/lib/python3.6/dist-packages (from zict>=0.1.3->distributed>=2.2.0->auto-sklearn) (1.0.1)\n",
            "Requirement already satisfied: immutables>=0.9 in /usr/local/lib/python3.6/dist-packages (from contextvars; python_version < \"3.7\"->distributed>=2.2.0->auto-sklearn) (0.14)\n"
          ],
          "name": "stdout"
        }
      ]
    },
    {
      "cell_type": "code",
      "metadata": {
        "colab": {
          "base_uri": "https://localhost:8080/"
        },
        "id": "07AEnoCZ4gIn",
        "outputId": "bc901862-7283-44b2-e45f-b98049b46d60"
      },
      "source": [
        "!pip install scikit-learn==0.24.0"
      ],
      "execution_count": null,
      "outputs": [
        {
          "output_type": "stream",
          "text": [
            "Requirement already satisfied: scikit-learn==0.24.0 in /usr/local/lib/python3.6/dist-packages (0.24.0)\n",
            "Requirement already satisfied: scipy>=0.19.1 in /usr/local/lib/python3.6/dist-packages (from scikit-learn==0.24.0) (1.4.1)\n",
            "Requirement already satisfied: numpy>=1.13.3 in /usr/local/lib/python3.6/dist-packages (from scikit-learn==0.24.0) (1.19.5)\n",
            "Requirement already satisfied: threadpoolctl>=2.0.0 in /usr/local/lib/python3.6/dist-packages (from scikit-learn==0.24.0) (2.1.0)\n",
            "Requirement already satisfied: joblib>=0.11 in /usr/local/lib/python3.6/dist-packages (from scikit-learn==0.24.0) (1.0.0)\n"
          ],
          "name": "stdout"
        }
      ]
    },
    {
      "cell_type": "code",
      "metadata": {
        "colab": {
          "base_uri": "https://localhost:8080/"
        },
        "id": "hUM-DnQo6f_A",
        "outputId": "3a859221-77c2-4176-89ec-4947fae31929"
      },
      "source": [
        "import sklearn\n",
        "\n",
        "print(sklearn.__version__)"
      ],
      "execution_count": null,
      "outputs": [
        {
          "output_type": "stream",
          "text": [
            "0.24.0\n"
          ],
          "name": "stdout"
        }
      ]
    },
    {
      "cell_type": "markdown",
      "metadata": {
        "id": "EBavmzajIeJ6"
      },
      "source": [
        "## Loading required libraries"
      ]
    },
    {
      "cell_type": "code",
      "metadata": {
        "id": "qpv_dCcOIi0F"
      },
      "source": [
        "# example of auto-sklearn for the insurance regression dataset\n",
        "from pandas import read_csv\n",
        "from sklearn.model_selection import train_test_split\n",
        "from sklearn.metrics import mean_absolute_error\n",
        "from autosklearn.regression import AutoSklearnRegressor\n",
        "from autosklearn.metrics import mean_absolute_error as auto_mean_absolute_error"
      ],
      "execution_count": null,
      "outputs": []
    },
    {
      "cell_type": "markdown",
      "metadata": {
        "id": "CxZQwgTAIkYR"
      },
      "source": [
        "## Loading data"
      ]
    },
    {
      "cell_type": "code",
      "metadata": {
        "id": "KRVUMdt4Imh7"
      },
      "source": [
        "# load dataset\n",
        "url = 'ratings.csv'\n",
        "dataframe = read_csv(url)"
      ],
      "execution_count": null,
      "outputs": []
    },
    {
      "cell_type": "code",
      "metadata": {
        "colab": {
          "base_uri": "https://localhost:8080/",
          "height": 419
        },
        "id": "XWiBK1AEI6uw",
        "outputId": "33368b47-42ee-4888-e0a2-da79c5821909"
      },
      "source": [
        "dataframe"
      ],
      "execution_count": null,
      "outputs": [
        {
          "output_type": "execute_result",
          "data": {
            "text/html": [
              "<div>\n",
              "<style scoped>\n",
              "    .dataframe tbody tr th:only-of-type {\n",
              "        vertical-align: middle;\n",
              "    }\n",
              "\n",
              "    .dataframe tbody tr th {\n",
              "        vertical-align: top;\n",
              "    }\n",
              "\n",
              "    .dataframe thead th {\n",
              "        text-align: right;\n",
              "    }\n",
              "</style>\n",
              "<table border=\"1\" class=\"dataframe\">\n",
              "  <thead>\n",
              "    <tr style=\"text-align: right;\">\n",
              "      <th></th>\n",
              "      <th>userId</th>\n",
              "      <th>movieId</th>\n",
              "      <th>rating</th>\n",
              "    </tr>\n",
              "  </thead>\n",
              "  <tbody>\n",
              "    <tr>\n",
              "      <th>0</th>\n",
              "      <td>1</td>\n",
              "      <td>1</td>\n",
              "      <td>4.0</td>\n",
              "    </tr>\n",
              "    <tr>\n",
              "      <th>1</th>\n",
              "      <td>1</td>\n",
              "      <td>3</td>\n",
              "      <td>4.0</td>\n",
              "    </tr>\n",
              "    <tr>\n",
              "      <th>2</th>\n",
              "      <td>1</td>\n",
              "      <td>6</td>\n",
              "      <td>4.0</td>\n",
              "    </tr>\n",
              "    <tr>\n",
              "      <th>3</th>\n",
              "      <td>1</td>\n",
              "      <td>47</td>\n",
              "      <td>5.0</td>\n",
              "    </tr>\n",
              "    <tr>\n",
              "      <th>4</th>\n",
              "      <td>1</td>\n",
              "      <td>50</td>\n",
              "      <td>5.0</td>\n",
              "    </tr>\n",
              "    <tr>\n",
              "      <th>...</th>\n",
              "      <td>...</td>\n",
              "      <td>...</td>\n",
              "      <td>...</td>\n",
              "    </tr>\n",
              "    <tr>\n",
              "      <th>100831</th>\n",
              "      <td>610</td>\n",
              "      <td>166534</td>\n",
              "      <td>4.0</td>\n",
              "    </tr>\n",
              "    <tr>\n",
              "      <th>100832</th>\n",
              "      <td>610</td>\n",
              "      <td>168248</td>\n",
              "      <td>5.0</td>\n",
              "    </tr>\n",
              "    <tr>\n",
              "      <th>100833</th>\n",
              "      <td>610</td>\n",
              "      <td>168250</td>\n",
              "      <td>5.0</td>\n",
              "    </tr>\n",
              "    <tr>\n",
              "      <th>100834</th>\n",
              "      <td>610</td>\n",
              "      <td>168252</td>\n",
              "      <td>5.0</td>\n",
              "    </tr>\n",
              "    <tr>\n",
              "      <th>100835</th>\n",
              "      <td>610</td>\n",
              "      <td>170875</td>\n",
              "      <td>3.0</td>\n",
              "    </tr>\n",
              "  </tbody>\n",
              "</table>\n",
              "<p>100836 rows × 3 columns</p>\n",
              "</div>"
            ],
            "text/plain": [
              "        userId  movieId  rating\n",
              "0            1        1     4.0\n",
              "1            1        3     4.0\n",
              "2            1        6     4.0\n",
              "3            1       47     5.0\n",
              "4            1       50     5.0\n",
              "...        ...      ...     ...\n",
              "100831     610   166534     4.0\n",
              "100832     610   168248     5.0\n",
              "100833     610   168250     5.0\n",
              "100834     610   168252     5.0\n",
              "100835     610   170875     3.0\n",
              "\n",
              "[100836 rows x 3 columns]"
            ]
          },
          "metadata": {
            "tags": []
          },
          "execution_count": 14
        }
      ]
    },
    {
      "cell_type": "markdown",
      "metadata": {
        "id": "yLr-8uYWIxiF"
      },
      "source": [
        "## Splitting dataset in to train and test sets"
      ]
    },
    {
      "cell_type": "code",
      "metadata": {
        "id": "2iK5-XiLI109"
      },
      "source": [
        "# split into input and output elements\n",
        "data = dataframe.values\n",
        "data = data.astype('float32')\n",
        "X, y = data[:, :-1], data[:, -1]\n",
        "# split into train and test sets\n",
        "X_train, X_test, y_train, y_test = train_test_split(X, y, test_size=0.33, random_state=1)"
      ],
      "execution_count": null,
      "outputs": []
    },
    {
      "cell_type": "code",
      "metadata": {
        "colab": {
          "base_uri": "https://localhost:8080/"
        },
        "id": "0TDFClL8MFyb",
        "outputId": "c0546503-4d33-4312-9c89-3af10e0ef73f"
      },
      "source": [
        "# define search\n",
        "model = AutoSklearnRegressor(time_left_for_this_task=60*60, per_run_time_limit=30, n_jobs=8)\n",
        "# perform the search\n",
        "model.fit(X_train, y_train)\n",
        "# summarize\n",
        "print(model.sprint_statistics())\n",
        "# evaluate best model\n",
        "y_hat = model.predict(X_test)\n",
        "mae = mean_absolute_error(y_test, y_hat)\n",
        "print(\"MAE: %.3f\" % mae)"
      ],
      "execution_count": null,
      "outputs": [
        {
          "output_type": "stream",
          "text": [
            "auto-sklearn results:\n",
            "  Dataset name: 98b85bc476de34e3b5187670f5f8e445\n",
            "  Metric: r2\n",
            "  Best validation score: 0.171401\n",
            "  Number of target algorithm runs: 238\n",
            "  Number of successful target algorithm runs: 138\n",
            "  Number of crashed target algorithm runs: 0\n",
            "  Number of target algorithms that exceeded the time limit: 86\n",
            "  Number of target algorithms that exceeded the memory limit: 14\n",
            "\n",
            "MAE: 0.733\n"
          ],
          "name": "stdout"
        }
      ]
    },
    {
      "cell_type": "code",
      "metadata": {
        "id": "zgyFwbgg8XAe"
      },
      "source": [
        "from sklearn.metrics import mean_squared_error\n",
        "\n",
        "rms = mean_squared_error(y_test, y_hat, squared=False)"
      ],
      "execution_count": null,
      "outputs": []
    },
    {
      "cell_type": "code",
      "metadata": {
        "colab": {
          "base_uri": "https://localhost:8080/"
        },
        "id": "edHzyNIhIXWB",
        "outputId": "7fb81bd8-beac-44cd-fcff-a24dbf10749f"
      },
      "source": [
        "mae = mean_absolute_error(y_test, y_hat)\n",
        "mae"
      ],
      "execution_count": null,
      "outputs": [
        {
          "output_type": "execute_result",
          "data": {
            "text/plain": [
              "0.7334022431695156"
            ]
          },
          "metadata": {
            "tags": []
          },
          "execution_count": 55
        }
      ]
    },
    {
      "cell_type": "code",
      "metadata": {
        "colab": {
          "base_uri": "https://localhost:8080/"
        },
        "id": "1gj8hhmX85XT",
        "outputId": "9cd331d2-ca1f-4a32-cc8d-8f1dd082a4fa"
      },
      "source": [
        "rms"
      ],
      "execution_count": null,
      "outputs": [
        {
          "output_type": "execute_result",
          "data": {
            "text/plain": [
              "0.942036577903963"
            ]
          },
          "metadata": {
            "tags": []
          },
          "execution_count": 52
        }
      ]
    },
    {
      "cell_type": "code",
      "metadata": {
        "colab": {
          "base_uri": "https://localhost:8080/",
          "height": 171
        },
        "id": "7YQqvv42bEtJ",
        "outputId": "cc1b13b6-9f2a-4e02-b527-4752033fb142"
      },
      "source": [
        "model.show_models()"
      ],
      "execution_count": null,
      "outputs": [
        {
          "output_type": "execute_result",
          "data": {
            "application/vnd.google.colaboratory.intrinsic+json": {
              "type": "string"
            },
            "text/plain": [
              "\"[(0.620000, SimpleRegressionPipeline({'data_preprocessing:categorical_transformer:categorical_encoding:__choice__': 'no_encoding', 'data_preprocessing:categorical_transformer:category_coalescence:__choice__': 'minority_coalescer', 'data_preprocessing:numerical_transformer:imputation:strategy': 'most_frequent', 'data_preprocessing:numerical_transformer:rescaling:__choice__': 'quantile_transformer', 'feature_preprocessor:__choice__': 'extra_trees_preproc_for_regression', 'regressor:__choice__': 'k_nearest_neighbors', 'data_preprocessing:categorical_transformer:category_coalescence:minority_coalescer:minimum_fraction': 0.07091618793106647, 'data_preprocessing:numerical_transformer:rescaling:quantile_transformer:n_quantiles': 839, 'data_preprocessing:numerical_transformer:rescaling:quantile_transformer:output_distribution': 'uniform', 'feature_preprocessor:extra_trees_preproc_for_regression:bootstrap': 'False', 'feature_preprocessor:extra_trees_preproc_for_regression:criterion': 'friedman_mse', 'feature_preprocessor:extra_trees_preproc_for_regression:max_depth': 'None', 'feature_preprocessor:extra_trees_preproc_for_regression:max_features': 0.3081954490206045, 'feature_preprocessor:extra_trees_preproc_for_regression:max_leaf_nodes': 'None', 'feature_preprocessor:extra_trees_preproc_for_regression:min_samples_leaf': 8, 'feature_preprocessor:extra_trees_preproc_for_regression:min_samples_split': 11, 'feature_preprocessor:extra_trees_preproc_for_regression:min_weight_fraction_leaf': 0.0, 'feature_preprocessor:extra_trees_preproc_for_regression:n_estimators': 100, 'regressor:k_nearest_neighbors:n_neighbors': 84, 'regressor:k_nearest_neighbors:p': 1, 'regressor:k_nearest_neighbors:weights': 'distance'},\\ndataset_properties={\\n  'task': 4,\\n  'sparse': False,\\n  'multioutput': False,\\n  'target_type': 'regression',\\n  'signed': False})),\\n(0.380000, SimpleRegressionPipeline({'data_preprocessing:categorical_transformer:categorical_encoding:__choice__': 'no_encoding', 'data_preprocessing:categorical_transformer:category_coalescence:__choice__': 'minority_coalescer', 'data_preprocessing:numerical_transformer:imputation:strategy': 'most_frequent', 'data_preprocessing:numerical_transformer:rescaling:__choice__': 'minmax', 'feature_preprocessor:__choice__': 'extra_trees_preproc_for_regression', 'regressor:__choice__': 'extra_trees', 'data_preprocessing:categorical_transformer:category_coalescence:minority_coalescer:minimum_fraction': 0.001493144570660255, 'feature_preprocessor:extra_trees_preproc_for_regression:bootstrap': 'True', 'feature_preprocessor:extra_trees_preproc_for_regression:criterion': 'mse', 'feature_preprocessor:extra_trees_preproc_for_regression:max_depth': 'None', 'feature_preprocessor:extra_trees_preproc_for_regression:max_features': 0.9298653024900433, 'feature_preprocessor:extra_trees_preproc_for_regression:max_leaf_nodes': 'None', 'feature_preprocessor:extra_trees_preproc_for_regression:min_samples_leaf': 4, 'feature_preprocessor:extra_trees_preproc_for_regression:min_samples_split': 13, 'feature_preprocessor:extra_trees_preproc_for_regression:min_weight_fraction_leaf': 0.0, 'feature_preprocessor:extra_trees_preproc_for_regression:n_estimators': 100, 'regressor:extra_trees:bootstrap': 'True', 'regressor:extra_trees:criterion': 'friedman_mse', 'regressor:extra_trees:max_depth': 'None', 'regressor:extra_trees:max_features': 0.4276086177949897, 'regressor:extra_trees:max_leaf_nodes': 'None', 'regressor:extra_trees:min_impurity_decrease': 0.0, 'regressor:extra_trees:min_samples_leaf': 10, 'regressor:extra_trees:min_samples_split': 19, 'regressor:extra_trees:min_weight_fraction_leaf': 0.0},\\ndataset_properties={\\n  'task': 4,\\n  'sparse': False,\\n  'multioutput': False,\\n  'target_type': 'regression',\\n  'signed': False})),\\n]\""
            ]
          },
          "metadata": {
            "tags": []
          },
          "execution_count": 29
        }
      ]
    },
    {
      "cell_type": "code",
      "metadata": {
        "colab": {
          "base_uri": "https://localhost:8080/"
        },
        "id": "cQ7lVt-rbQCc",
        "outputId": "b4c82d0d-7f52-4614-8fc6-43529b64856e"
      },
      "source": [
        "model.cv_results_.keys()"
      ],
      "execution_count": null,
      "outputs": [
        {
          "output_type": "execute_result",
          "data": {
            "text/plain": [
              "dict_keys(['mean_test_score', 'mean_fit_time', 'params', 'rank_test_scores', 'status', 'budgets', 'param_data_preprocessing:categorical_transformer:categorical_encoding:__choice__', 'param_data_preprocessing:categorical_transformer:category_coalescence:__choice__', 'param_data_preprocessing:numerical_transformer:imputation:strategy', 'param_data_preprocessing:numerical_transformer:rescaling:__choice__', 'param_feature_preprocessor:__choice__', 'param_regressor:__choice__', 'param_data_preprocessing:categorical_transformer:category_coalescence:minority_coalescer:minimum_fraction', 'param_data_preprocessing:numerical_transformer:rescaling:quantile_transformer:n_quantiles', 'param_data_preprocessing:numerical_transformer:rescaling:quantile_transformer:output_distribution', 'param_data_preprocessing:numerical_transformer:rescaling:robust_scaler:q_max', 'param_data_preprocessing:numerical_transformer:rescaling:robust_scaler:q_min', 'param_feature_preprocessor:extra_trees_preproc_for_regression:bootstrap', 'param_feature_preprocessor:extra_trees_preproc_for_regression:criterion', 'param_feature_preprocessor:extra_trees_preproc_for_regression:max_depth', 'param_feature_preprocessor:extra_trees_preproc_for_regression:max_features', 'param_feature_preprocessor:extra_trees_preproc_for_regression:max_leaf_nodes', 'param_feature_preprocessor:extra_trees_preproc_for_regression:min_samples_leaf', 'param_feature_preprocessor:extra_trees_preproc_for_regression:min_samples_split', 'param_feature_preprocessor:extra_trees_preproc_for_regression:min_weight_fraction_leaf', 'param_feature_preprocessor:extra_trees_preproc_for_regression:n_estimators', 'param_feature_preprocessor:fast_ica:algorithm', 'param_feature_preprocessor:fast_ica:fun', 'param_feature_preprocessor:fast_ica:whiten', 'param_feature_preprocessor:feature_agglomeration:affinity', 'param_feature_preprocessor:feature_agglomeration:linkage', 'param_feature_preprocessor:feature_agglomeration:n_clusters', 'param_feature_preprocessor:feature_agglomeration:pooling_func', 'param_feature_preprocessor:kernel_pca:kernel', 'param_feature_preprocessor:kernel_pca:n_components', 'param_feature_preprocessor:kitchen_sinks:gamma', 'param_feature_preprocessor:kitchen_sinks:n_components', 'param_feature_preprocessor:nystroem_sampler:kernel', 'param_feature_preprocessor:nystroem_sampler:n_components', 'param_feature_preprocessor:pca:keep_variance', 'param_feature_preprocessor:pca:whiten', 'param_feature_preprocessor:polynomial:degree', 'param_feature_preprocessor:polynomial:include_bias', 'param_feature_preprocessor:polynomial:interaction_only', 'param_feature_preprocessor:random_trees_embedding:bootstrap', 'param_feature_preprocessor:random_trees_embedding:max_depth', 'param_feature_preprocessor:random_trees_embedding:max_leaf_nodes', 'param_feature_preprocessor:random_trees_embedding:min_samples_leaf', 'param_feature_preprocessor:random_trees_embedding:min_samples_split', 'param_feature_preprocessor:random_trees_embedding:min_weight_fraction_leaf', 'param_feature_preprocessor:random_trees_embedding:n_estimators', 'param_feature_preprocessor:select_percentile_regression:percentile', 'param_feature_preprocessor:select_percentile_regression:score_func', 'param_feature_preprocessor:select_rates_regression:alpha', 'param_feature_preprocessor:select_rates_regression:mode', 'param_feature_preprocessor:select_rates_regression:score_func', 'param_regressor:adaboost:learning_rate', 'param_regressor:adaboost:loss', 'param_regressor:adaboost:max_depth', 'param_regressor:adaboost:n_estimators', 'param_regressor:ard_regression:alpha_1', 'param_regressor:ard_regression:alpha_2', 'param_regressor:ard_regression:fit_intercept', 'param_regressor:ard_regression:lambda_1', 'param_regressor:ard_regression:lambda_2', 'param_regressor:ard_regression:n_iter', 'param_regressor:ard_regression:threshold_lambda', 'param_regressor:ard_regression:tol', 'param_regressor:decision_tree:criterion', 'param_regressor:decision_tree:max_depth_factor', 'param_regressor:decision_tree:max_features', 'param_regressor:decision_tree:max_leaf_nodes', 'param_regressor:decision_tree:min_impurity_decrease', 'param_regressor:decision_tree:min_samples_leaf', 'param_regressor:decision_tree:min_samples_split', 'param_regressor:decision_tree:min_weight_fraction_leaf', 'param_regressor:extra_trees:bootstrap', 'param_regressor:extra_trees:criterion', 'param_regressor:extra_trees:max_depth', 'param_regressor:extra_trees:max_features', 'param_regressor:extra_trees:max_leaf_nodes', 'param_regressor:extra_trees:min_impurity_decrease', 'param_regressor:extra_trees:min_samples_leaf', 'param_regressor:extra_trees:min_samples_split', 'param_regressor:extra_trees:min_weight_fraction_leaf', 'param_regressor:gaussian_process:alpha', 'param_regressor:gaussian_process:thetaL', 'param_regressor:gaussian_process:thetaU', 'param_regressor:gradient_boosting:early_stop', 'param_regressor:gradient_boosting:l2_regularization', 'param_regressor:gradient_boosting:learning_rate', 'param_regressor:gradient_boosting:loss', 'param_regressor:gradient_boosting:max_bins', 'param_regressor:gradient_boosting:max_depth', 'param_regressor:gradient_boosting:max_leaf_nodes', 'param_regressor:gradient_boosting:min_samples_leaf', 'param_regressor:gradient_boosting:scoring', 'param_regressor:gradient_boosting:tol', 'param_regressor:k_nearest_neighbors:n_neighbors', 'param_regressor:k_nearest_neighbors:p', 'param_regressor:k_nearest_neighbors:weights', 'param_regressor:liblinear_svr:C', 'param_regressor:liblinear_svr:dual', 'param_regressor:liblinear_svr:epsilon', 'param_regressor:liblinear_svr:fit_intercept', 'param_regressor:liblinear_svr:intercept_scaling', 'param_regressor:liblinear_svr:loss', 'param_regressor:liblinear_svr:tol', 'param_regressor:libsvm_svr:C', 'param_regressor:libsvm_svr:epsilon', 'param_regressor:libsvm_svr:kernel', 'param_regressor:libsvm_svr:max_iter', 'param_regressor:libsvm_svr:shrinking', 'param_regressor:libsvm_svr:tol', 'param_regressor:mlp:activation', 'param_regressor:mlp:alpha', 'param_regressor:mlp:batch_size', 'param_regressor:mlp:beta_1', 'param_regressor:mlp:beta_2', 'param_regressor:mlp:early_stopping', 'param_regressor:mlp:epsilon', 'param_regressor:mlp:hidden_layer_depth', 'param_regressor:mlp:learning_rate_init', 'param_regressor:mlp:n_iter_no_change', 'param_regressor:mlp:num_nodes_per_layer', 'param_regressor:mlp:shuffle', 'param_regressor:mlp:solver', 'param_regressor:mlp:tol', 'param_regressor:random_forest:bootstrap', 'param_regressor:random_forest:criterion', 'param_regressor:random_forest:max_depth', 'param_regressor:random_forest:max_features', 'param_regressor:random_forest:max_leaf_nodes', 'param_regressor:random_forest:min_impurity_decrease', 'param_regressor:random_forest:min_samples_leaf', 'param_regressor:random_forest:min_samples_split', 'param_regressor:random_forest:min_weight_fraction_leaf', 'param_regressor:sgd:alpha', 'param_regressor:sgd:average', 'param_regressor:sgd:fit_intercept', 'param_regressor:sgd:learning_rate', 'param_regressor:sgd:loss', 'param_regressor:sgd:penalty', 'param_regressor:sgd:tol', 'param_feature_preprocessor:fast_ica:n_components', 'param_feature_preprocessor:kernel_pca:coef0', 'param_feature_preprocessor:kernel_pca:degree', 'param_feature_preprocessor:kernel_pca:gamma', 'param_feature_preprocessor:nystroem_sampler:coef0', 'param_feature_preprocessor:nystroem_sampler:degree', 'param_feature_preprocessor:nystroem_sampler:gamma', 'param_regressor:gradient_boosting:n_iter_no_change', 'param_regressor:gradient_boosting:validation_fraction', 'param_regressor:libsvm_svr:coef0', 'param_regressor:libsvm_svr:degree', 'param_regressor:libsvm_svr:gamma', 'param_regressor:mlp:validation_fraction', 'param_regressor:sgd:epsilon', 'param_regressor:sgd:eta0', 'param_regressor:sgd:l1_ratio', 'param_regressor:sgd:power_t'])"
            ]
          },
          "metadata": {
            "tags": []
          },
          "execution_count": 30
        }
      ]
    },
    {
      "cell_type": "code",
      "metadata": {
        "colab": {
          "base_uri": "https://localhost:8080/"
        },
        "id": "wWmFhTcXwsrS",
        "outputId": "0bdbc3d9-2c1f-4e54-ea41-a0127e8e73d1"
      },
      "source": [
        "print(model.show_models())"
      ],
      "execution_count": null,
      "outputs": [
        {
          "output_type": "stream",
          "text": [
            "[(0.620000, SimpleRegressionPipeline({'data_preprocessing:categorical_transformer:categorical_encoding:__choice__': 'no_encoding', 'data_preprocessing:categorical_transformer:category_coalescence:__choice__': 'minority_coalescer', 'data_preprocessing:numerical_transformer:imputation:strategy': 'most_frequent', 'data_preprocessing:numerical_transformer:rescaling:__choice__': 'quantile_transformer', 'feature_preprocessor:__choice__': 'extra_trees_preproc_for_regression', 'regressor:__choice__': 'k_nearest_neighbors', 'data_preprocessing:categorical_transformer:category_coalescence:minority_coalescer:minimum_fraction': 0.07091618793106647, 'data_preprocessing:numerical_transformer:rescaling:quantile_transformer:n_quantiles': 839, 'data_preprocessing:numerical_transformer:rescaling:quantile_transformer:output_distribution': 'uniform', 'feature_preprocessor:extra_trees_preproc_for_regression:bootstrap': 'False', 'feature_preprocessor:extra_trees_preproc_for_regression:criterion': 'friedman_mse', 'feature_preprocessor:extra_trees_preproc_for_regression:max_depth': 'None', 'feature_preprocessor:extra_trees_preproc_for_regression:max_features': 0.3081954490206045, 'feature_preprocessor:extra_trees_preproc_for_regression:max_leaf_nodes': 'None', 'feature_preprocessor:extra_trees_preproc_for_regression:min_samples_leaf': 8, 'feature_preprocessor:extra_trees_preproc_for_regression:min_samples_split': 11, 'feature_preprocessor:extra_trees_preproc_for_regression:min_weight_fraction_leaf': 0.0, 'feature_preprocessor:extra_trees_preproc_for_regression:n_estimators': 100, 'regressor:k_nearest_neighbors:n_neighbors': 84, 'regressor:k_nearest_neighbors:p': 1, 'regressor:k_nearest_neighbors:weights': 'distance'},\n",
            "dataset_properties={\n",
            "  'task': 4,\n",
            "  'sparse': False,\n",
            "  'multioutput': False,\n",
            "  'target_type': 'regression',\n",
            "  'signed': False})),\n",
            "(0.380000, SimpleRegressionPipeline({'data_preprocessing:categorical_transformer:categorical_encoding:__choice__': 'no_encoding', 'data_preprocessing:categorical_transformer:category_coalescence:__choice__': 'minority_coalescer', 'data_preprocessing:numerical_transformer:imputation:strategy': 'most_frequent', 'data_preprocessing:numerical_transformer:rescaling:__choice__': 'minmax', 'feature_preprocessor:__choice__': 'extra_trees_preproc_for_regression', 'regressor:__choice__': 'extra_trees', 'data_preprocessing:categorical_transformer:category_coalescence:minority_coalescer:minimum_fraction': 0.001493144570660255, 'feature_preprocessor:extra_trees_preproc_for_regression:bootstrap': 'True', 'feature_preprocessor:extra_trees_preproc_for_regression:criterion': 'mse', 'feature_preprocessor:extra_trees_preproc_for_regression:max_depth': 'None', 'feature_preprocessor:extra_trees_preproc_for_regression:max_features': 0.9298653024900433, 'feature_preprocessor:extra_trees_preproc_for_regression:max_leaf_nodes': 'None', 'feature_preprocessor:extra_trees_preproc_for_regression:min_samples_leaf': 4, 'feature_preprocessor:extra_trees_preproc_for_regression:min_samples_split': 13, 'feature_preprocessor:extra_trees_preproc_for_regression:min_weight_fraction_leaf': 0.0, 'feature_preprocessor:extra_trees_preproc_for_regression:n_estimators': 100, 'regressor:extra_trees:bootstrap': 'True', 'regressor:extra_trees:criterion': 'friedman_mse', 'regressor:extra_trees:max_depth': 'None', 'regressor:extra_trees:max_features': 0.4276086177949897, 'regressor:extra_trees:max_leaf_nodes': 'None', 'regressor:extra_trees:min_impurity_decrease': 0.0, 'regressor:extra_trees:min_samples_leaf': 10, 'regressor:extra_trees:min_samples_split': 19, 'regressor:extra_trees:min_weight_fraction_leaf': 0.0},\n",
            "dataset_properties={\n",
            "  'task': 4,\n",
            "  'sparse': False,\n",
            "  'multioutput': False,\n",
            "  'target_type': 'regression',\n",
            "  'signed': False})),\n",
            "]\n"
          ],
          "name": "stdout"
        }
      ]
    },
    {
      "cell_type": "code",
      "metadata": {
        "colab": {
          "base_uri": "https://localhost:8080/"
        },
        "id": "j7s_3eAfyPTs",
        "outputId": "4f651cdb-0e3e-4846-93ec-a66c1e911937"
      },
      "source": [
        "model.automl_.runhistory_.data"
      ],
      "execution_count": null,
      "outputs": [
        {
          "output_type": "execute_result",
          "data": {
            "text/plain": [
              "OrderedDict([(RunKey(config_id=1, instance_id='{\"task_id\": \"98b85bc476de34e3b5187670f5f8e445\"}', seed=0, budget=0.0),\n",
              "              RunValue(cost=1.0, time=41.5925931930542, status=<StatusType.TIMEOUT: 2>, starttime=1610648954.898724, endtime=1610648997.6069982, additional_info={'error': 'Timeout', 'configuration_origin': 'Initial design'})),\n",
              "             (RunKey(config_id=2, instance_id='{\"task_id\": \"98b85bc476de34e3b5187670f5f8e445\"}', seed=0, budget=0.0),\n",
              "              RunValue(cost=1.0, time=42.134257078170776, status=<StatusType.TIMEOUT: 2>, starttime=1610648956.8437953, endtime=1610649000.0539107, additional_info={'error': 'Timeout', 'configuration_origin': 'Initial design'})),\n",
              "             (RunKey(config_id=3, instance_id='{\"task_id\": \"98b85bc476de34e3b5187670f5f8e445\"}', seed=0, budget=0.0),\n",
              "              RunValue(cost=1.0, time=41.31968021392822, status=<StatusType.TIMEOUT: 2>, starttime=1610648958.8135774, endtime=1610649001.2766078, additional_info={'error': 'Timeout', 'configuration_origin': 'Initial design'})),\n",
              "             (RunKey(config_id=4, instance_id='{\"task_id\": \"98b85bc476de34e3b5187670f5f8e445\"}', seed=0, budget=0.0),\n",
              "              RunValue(cost=1.0, time=41.74015188217163, status=<StatusType.TIMEOUT: 2>, starttime=1610648959.407164, endtime=1610649002.3224592, additional_info={'error': 'Timeout', 'configuration_origin': 'Initial design'})),\n",
              "             (RunKey(config_id=5, instance_id='{\"task_id\": \"98b85bc476de34e3b5187670f5f8e445\"}', seed=0, budget=0.0),\n",
              "              RunValue(cost=1.000020189030707, time=14.78454327583313, status=<StatusType.SUCCESS: 1>, starttime=1610648960.2756844, endtime=1610648976.2066655, additional_info={'duration': 2.9734904766082764, 'num_run': 6, 'train_loss': 1.0000000000000038, 'configuration_origin': 'Initial design'})),\n",
              "             (RunKey(config_id=6, instance_id='{\"task_id\": \"98b85bc476de34e3b5187670f5f8e445\"}', seed=0, budget=0.0),\n",
              "              RunValue(cost=1.0, time=40.6223087310791, status=<StatusType.TIMEOUT: 2>, starttime=1610648960.887383, endtime=1610649002.6539085, additional_info={'error': 'Timeout', 'configuration_origin': 'Initial design'})),\n",
              "             (RunKey(config_id=7, instance_id='{\"task_id\": \"98b85bc476de34e3b5187670f5f8e445\"}', seed=0, budget=0.0),\n",
              "              RunValue(cost=1.0, time=40.3153600692749, status=<StatusType.TIMEOUT: 2>, starttime=1610648962.1174288, endtime=1610649003.5288918, additional_info={'error': 'Timeout', 'configuration_origin': 'Initial design'})),\n",
              "             (RunKey(config_id=8, instance_id='{\"task_id\": \"98b85bc476de34e3b5187670f5f8e445\"}', seed=0, budget=0.0),\n",
              "              RunValue(cost=1.24408592548683, time=16.26467227935791, status=<StatusType.SUCCESS: 1>, starttime=1610648963.012322, endtime=1610648980.4853287, additional_info={'duration': 5.581852674484253, 'num_run': 9, 'train_loss': 0.0, 'configuration_origin': 'Initial design'})),\n",
              "             (RunKey(config_id=9, instance_id='{\"task_id\": \"98b85bc476de34e3b5187670f5f8e445\"}', seed=0, budget=0.0),\n",
              "              RunValue(cost=1.0, time=41.39238476753235, status=<StatusType.TIMEOUT: 2>, starttime=1610648977.1889105, endtime=1610649019.6279411, additional_info={'error': 'Timeout', 'configuration_origin': 'Initial design'})),\n",
              "             (RunKey(config_id=10, instance_id='{\"task_id\": \"98b85bc476de34e3b5187670f5f8e445\"}', seed=0, budget=0.0),\n",
              "              RunValue(cost=0.9988834564614679, time=20.66815948486328, status=<StatusType.SUCCESS: 1>, starttime=1610649000.4069252, endtime=1610649022.4473941, additional_info={'duration': 3.871915817260742, 'num_run': 11, 'train_loss': 0.9988290924534682, 'configuration_origin': 'Initial design'})),\n",
              "             (RunKey(config_id=11, instance_id='{\"task_id\": \"98b85bc476de34e3b5187670f5f8e445\"}', seed=0, budget=0.0),\n",
              "              RunValue(cost=1.0, time=45.459991455078125, status=<StatusType.TIMEOUT: 2>, starttime=1610648998.8145263, endtime=1610649045.3238523, additional_info={'error': 'Timeout', 'configuration_origin': 'Initial design'})),\n",
              "             (RunKey(config_id=12, instance_id='{\"task_id\": \"98b85bc476de34e3b5187670f5f8e445\"}', seed=0, budget=0.0),\n",
              "              RunValue(cost=1.0, time=19.84016442298889, status=<StatusType.MEMOUT: 5>, starttime=1610649000.8821893, endtime=1610649022.9598615, additional_info={'error': 'Memout (used more than 3072 MB).', 'configuration_origin': 'Initial design'})),\n",
              "             (RunKey(config_id=13, instance_id='{\"task_id\": \"98b85bc476de34e3b5187670f5f8e445\"}', seed=0, budget=0.0),\n",
              "              RunValue(cost=1.0, time=41.898927450180054, status=<StatusType.TIMEOUT: 2>, starttime=1610649022.7360222, endtime=1610649065.711396, additional_info={'error': 'Timeout', 'configuration_origin': 'Initial design'})),\n",
              "             (RunKey(config_id=14, instance_id='{\"task_id\": \"98b85bc476de34e3b5187670f5f8e445\"}', seed=0, budget=0.0),\n",
              "              RunValue(cost=1.0, time=18.666794538497925, status=<StatusType.MEMOUT: 5>, starttime=1610649003.00643, endtime=1610649024.0430892, additional_info={'error': 'Memout (used more than 3072 MB).', 'configuration_origin': 'Initial design'})),\n",
              "             (RunKey(config_id=15, instance_id='{\"task_id\": \"98b85bc476de34e3b5187670f5f8e445\"}', seed=0, budget=0.0),\n",
              "              RunValue(cost=0.9826436273916754, time=22.086694717407227, status=<StatusType.SUCCESS: 1>, starttime=1610649003.998404, endtime=1610649027.5238893, additional_info={'duration': 3.729443311691284, 'num_run': 16, 'train_loss': 0.9817132712900368, 'configuration_origin': 'Initial design'})),\n",
              "             (RunKey(config_id=16, instance_id='{\"task_id\": \"98b85bc476de34e3b5187670f5f8e445\"}', seed=0, budget=0.0),\n",
              "              RunValue(cost=1.0, time=44.547059535980225, status=<StatusType.TIMEOUT: 2>, starttime=1610649006.6767652, endtime=1610649052.2719393, additional_info={'error': 'Timeout', 'configuration_origin': 'Initial design'})),\n",
              "             (RunKey(config_id=17, instance_id='{\"task_id\": \"98b85bc476de34e3b5187670f5f8e445\"}', seed=0, budget=0.0),\n",
              "              RunValue(cost=0.9971521069699815, time=14.918818950653076, status=<StatusType.SUCCESS: 1>, starttime=1610649020.7626104, endtime=1610649037.0251856, additional_info={'duration': 3.3897383213043213, 'num_run': 18, 'train_loss': 0.9978160369083804, 'configuration_origin': 'Initial design'})),\n",
              "             (RunKey(config_id=18, instance_id='{\"task_id\": \"98b85bc476de34e3b5187670f5f8e445\"}', seed=0, budget=0.0),\n",
              "              RunValue(cost=0.9971684296452196, time=16.709975957870483, status=<StatusType.SUCCESS: 1>, starttime=1610649023.4044116, endtime=1610649041.3074956, additional_info={'duration': 4.125889301300049, 'num_run': 19, 'train_loss': 0.9978789884273245, 'configuration_origin': 'Initial design'})),\n",
              "             (RunKey(config_id=19, instance_id='{\"task_id\": \"98b85bc476de34e3b5187670f5f8e445\"}', seed=0, budget=0.0),\n",
              "              RunValue(cost=1.0, time=41.7787561416626, status=<StatusType.TIMEOUT: 2>, starttime=1610649025.068664, endtime=1610649067.9578476, additional_info={'error': 'Timeout', 'configuration_origin': 'Initial design'})),\n",
              "             (RunKey(config_id=20, instance_id='{\"task_id\": \"98b85bc476de34e3b5187670f5f8e445\"}', seed=0, budget=0.0),\n",
              "              RunValue(cost=1.0, time=41.2532434463501, status=<StatusType.TIMEOUT: 2>, starttime=1610649027.0429788, endtime=1610649069.3449733, additional_info={'error': 'Timeout', 'configuration_origin': 'Initial design'})),\n",
              "             (RunKey(config_id=21, instance_id='{\"task_id\": \"98b85bc476de34e3b5187670f5f8e445\"}', seed=0, budget=0.0),\n",
              "              RunValue(cost=1.0, time=41.56644034385681, status=<StatusType.TIMEOUT: 2>, starttime=1610649028.2492037, endtime=1610649070.8549268, additional_info={'error': 'Timeout', 'configuration_origin': 'Initial design'})),\n",
              "             (RunKey(config_id=22, instance_id='{\"task_id\": \"98b85bc476de34e3b5187670f5f8e445\"}', seed=0, budget=0.0),\n",
              "              RunValue(cost=1.0, time=41.25497031211853, status=<StatusType.TIMEOUT: 2>, starttime=1610649041.623613, endtime=1610649083.8969917, additional_info={'error': 'Timeout', 'configuration_origin': 'Initial design'})),\n",
              "             (RunKey(config_id=23, instance_id='{\"task_id\": \"98b85bc476de34e3b5187670f5f8e445\"}', seed=0, budget=0.0),\n",
              "              RunValue(cost=1.0, time=43.13447666168213, status=<StatusType.TIMEOUT: 2>, starttime=1610649045.3598425, endtime=1610649089.5198953, additional_info={'error': 'Timeout', 'configuration_origin': 'Initial design'})),\n",
              "             (RunKey(config_id=24, instance_id='{\"task_id\": \"98b85bc476de34e3b5187670f5f8e445\"}', seed=0, budget=0.0),\n",
              "              RunValue(cost=0.9810518412961069, time=20.995492219924927, status=<StatusType.SUCCESS: 1>, starttime=1610649053.1273456, endtime=1610649075.2226655, additional_info={'duration': 7.337886571884155, 'num_run': 25, 'train_loss': 0.0, 'configuration_origin': 'Initial design'})),\n",
              "             (RunKey(config_id=25, instance_id='{\"task_id\": \"98b85bc476de34e3b5187670f5f8e445\"}', seed=0, budget=0.0),\n",
              "              RunValue(cost=0.9984201295082468, time=14.158562421798706, status=<StatusType.SUCCESS: 1>, starttime=1610649062.5234108, endtime=1610649077.6492205, additional_info={'duration': 3.157557725906372, 'num_run': 26, 'train_loss': 0.9989093391884543, 'configuration_origin': 'Initial design'})),\n",
              "             (RunKey(config_id=26, instance_id='{\"task_id\": \"98b85bc476de34e3b5187670f5f8e445\"}', seed=0, budget=0.0),\n",
              "              RunValue(cost=0.9940780887588208, time=13.376288890838623, status=<StatusType.SUCCESS: 1>, starttime=1610649066.7115467, endtime=1610649080.9290917, additional_info={'duration': 3.0203771591186523, 'num_run': 27, 'train_loss': 0.9937951292553897, 'configuration_origin': 'Initial design'})),\n",
              "             (RunKey(config_id=27, instance_id='{\"task_id\": \"98b85bc476de34e3b5187670f5f8e445\"}', seed=0, budget=0.0),\n",
              "              RunValue(cost=1.0, time=33.385913372039795, status=<StatusType.TIMEOUT: 2>, starttime=1610649092.9062319, endtime=1610649127.3124132, additional_info={'error': 'Timeout', 'configuration_origin': 'Random Search (sorted)'})),\n",
              "             (RunKey(config_id=28, instance_id='{\"task_id\": \"98b85bc476de34e3b5187670f5f8e445\"}', seed=0, budget=0.0),\n",
              "              RunValue(cost=0.9058137594259116, time=28.83548665046692, status=<StatusType.SUCCESS: 1>, starttime=1610649119.7880185, endtime=1610649149.021632, additional_info={'duration': 23.481478214263916, 'num_run': 29, 'train_loss': 0.4732974886438954, 'configuration_origin': 'Random Search (sorted)'})),\n",
              "             (RunKey(config_id=29, instance_id='{\"task_id\": \"98b85bc476de34e3b5187670f5f8e445\"}', seed=0, budget=0.0),\n",
              "              RunValue(cost=1.0, time=35.893335580825806, status=<StatusType.TIMEOUT: 2>, starttime=1610649120.663192, endtime=1610649157.5960674, additional_info={'error': 'Timeout', 'configuration_origin': 'Random Search'})),\n",
              "             (RunKey(config_id=30, instance_id='{\"task_id\": \"98b85bc476de34e3b5187670f5f8e445\"}', seed=0, budget=0.0),\n",
              "              RunValue(cost=1.6909451455929405, time=10.762001991271973, status=<StatusType.SUCCESS: 1>, starttime=1610649151.485812, endtime=1610649162.5413666, additional_info={'duration': 5.698660850524902, 'num_run': 31, 'train_loss': 1.6992204347447282, 'configuration_origin': 'Local Search'})),\n",
              "             (RunKey(config_id=31, instance_id='{\"task_id\": \"98b85bc476de34e3b5187670f5f8e445\"}', seed=0, budget=0.0),\n",
              "              RunValue(cost=1.0, time=34.35753846168518, status=<StatusType.TIMEOUT: 2>, starttime=1610649168.1625307, endtime=1610649203.5448492, additional_info={'error': 'Timeout', 'configuration_origin': 'Local Search'})),\n",
              "             (RunKey(config_id=32, instance_id='{\"task_id\": \"98b85bc476de34e3b5187670f5f8e445\"}', seed=0, budget=0.0),\n",
              "              RunValue(cost=1.0, time=36.50934195518494, status=<StatusType.TIMEOUT: 2>, starttime=1610649169.4211886, endtime=1610649207.112865, additional_info={'error': 'Timeout', 'configuration_origin': 'Random Search'})),\n",
              "             (RunKey(config_id=33, instance_id='{\"task_id\": \"98b85bc476de34e3b5187670f5f8e445\"}', seed=0, budget=0.0),\n",
              "              RunValue(cost=1.0, time=37.07338094711304, status=<StatusType.TIMEOUT: 2>, starttime=1610649170.7280014, endtime=1610649208.8159137, additional_info={'error': 'Timeout', 'configuration_origin': 'Random Search'})),\n",
              "             (RunKey(config_id=34, instance_id='{\"task_id\": \"98b85bc476de34e3b5187670f5f8e445\"}', seed=0, budget=0.0),\n",
              "              RunValue(cost=1.0, time=37.16730570793152, status=<StatusType.TIMEOUT: 2>, starttime=1610649172.7245696, endtime=1610649210.9038625, additional_info={'error': 'Timeout', 'configuration_origin': 'Random Search'})),\n",
              "             (RunKey(config_id=35, instance_id='{\"task_id\": \"98b85bc476de34e3b5187670f5f8e445\"}', seed=0, budget=0.0),\n",
              "              RunValue(cost=0.9816269129060985, time=6.671864748001099, status=<StatusType.SUCCESS: 1>, starttime=1610649212.152549, endtime=1610649219.3574178, additional_info={'duration': 2.2998201847076416, 'num_run': 36, 'train_loss': 0.9800836899154827, 'configuration_origin': 'Local Search'})),\n",
              "             (RunKey(config_id=36, instance_id='{\"task_id\": \"98b85bc476de34e3b5187670f5f8e445\"}', seed=0, budget=0.0),\n",
              "              RunValue(cost=1.0, time=34.912115812301636, status=<StatusType.TIMEOUT: 2>, starttime=1610649213.4641635, endtime=1610649249.4869075, additional_info={'error': 'Timeout', 'configuration_origin': 'Random Search'})),\n",
              "             (RunKey(config_id=37, instance_id='{\"task_id\": \"98b85bc476de34e3b5187670f5f8e445\"}', seed=0, budget=0.0),\n",
              "              RunValue(cost=1.0, time=35.47474694252014, status=<StatusType.TIMEOUT: 2>, starttime=1610649235.2233899, endtime=1610649271.7128701, additional_info={'error': 'Timeout', 'configuration_origin': 'Local Search'})),\n",
              "             (RunKey(config_id=38, instance_id='{\"task_id\": \"98b85bc476de34e3b5187670f5f8e445\"}', seed=0, budget=0.0),\n",
              "              RunValue(cost=1.0, time=36.21309804916382, status=<StatusType.TIMEOUT: 2>, starttime=1610649236.570516, endtime=1610649273.8099282, additional_info={'error': 'Timeout', 'configuration_origin': 'Random Search'})),\n",
              "             (RunKey(config_id=39, instance_id='{\"task_id\": \"98b85bc476de34e3b5187670f5f8e445\"}', seed=0, budget=0.0),\n",
              "              RunValue(cost=0.8969223751515324, time=15.085659503936768, status=<StatusType.SUCCESS: 1>, starttime=1610649271.6057763, endtime=1610649287.0287788, additional_info={'duration': 10.049594402313232, 'num_run': 40, 'train_loss': 0.8875410466180969, 'configuration_origin': 'Local Search'})),\n",
              "             (RunKey(config_id=40, instance_id='{\"task_id\": \"98b85bc476de34e3b5187670f5f8e445\"}', seed=0, budget=0.0),\n",
              "              RunValue(cost=1.0, time=34.750269174575806, status=<StatusType.TIMEOUT: 2>, starttime=1610649272.902881, endtime=1610649308.6749532, additional_info={'error': 'Timeout', 'configuration_origin': 'Random Search'})),\n",
              "             (RunKey(config_id=41, instance_id='{\"task_id\": \"98b85bc476de34e3b5187670f5f8e445\"}', seed=0, budget=0.0),\n",
              "              RunValue(cost=0.9596017942928353, time=6.4081947803497314, status=<StatusType.SUCCESS: 1>, starttime=1610649297.1907463, endtime=1610649304.2635825, additional_info={'duration': 1.7051563262939453, 'num_run': 42, 'train_loss': 0.9548949694135062, 'configuration_origin': 'Local Search'})),\n",
              "             (RunKey(config_id=42, instance_id='{\"task_id\": \"98b85bc476de34e3b5187670f5f8e445\"}', seed=0, budget=0.0),\n",
              "              RunValue(cost=0.9750102237606348, time=4.993891000747681, status=<StatusType.SUCCESS: 1>, starttime=1610649314.8590024, endtime=1610649320.2161226, additional_info={'duration': 1.499772310256958, 'num_run': 43, 'train_loss': 0.970870488019885, 'configuration_origin': 'Random Search (sorted)'})),\n",
              "             (RunKey(config_id=43, instance_id='{\"task_id\": \"98b85bc476de34e3b5187670f5f8e445\"}', seed=0, budget=0.0),\n",
              "              RunValue(cost=0.9300168600379713, time=7.324887990951538, status=<StatusType.SUCCESS: 1>, starttime=1610649330.4005432, endtime=1610649337.9614475, additional_info={'duration': 3.976367950439453, 'num_run': 44, 'train_loss': 0.9242989554599254, 'configuration_origin': 'Local Search'})),\n",
              "             (RunKey(config_id=44, instance_id='{\"task_id\": \"98b85bc476de34e3b5187670f5f8e445\"}', seed=0, budget=0.0),\n",
              "              RunValue(cost=0.8844647678979783, time=7.523159503936768, status=<StatusType.SUCCESS: 1>, starttime=1610649350.1349716, endtime=1610649357.9317195, additional_info={'duration': 3.768371820449829, 'num_run': 45, 'train_loss': 0.8716477911043253, 'configuration_origin': 'Random Search (sorted)'})),\n",
              "             (RunKey(config_id=45, instance_id='{\"task_id\": \"98b85bc476de34e3b5187670f5f8e445\"}', seed=0, budget=0.0),\n",
              "              RunValue(cost=0.9054062074953191, time=12.45287799835205, status=<StatusType.SUCCESS: 1>, starttime=1610649366.3860395, endtime=1610649379.170743, additional_info={'duration': 7.4035210609436035, 'num_run': 46, 'train_loss': 0.8967794919787002, 'configuration_origin': 'Random Search (sorted)'})),\n",
              "             (RunKey(config_id=46, instance_id='{\"task_id\": \"98b85bc476de34e3b5187670f5f8e445\"}', seed=0, budget=0.0),\n",
              "              RunValue(cost=1.0, time=35.87528610229492, status=<StatusType.TIMEOUT: 2>, starttime=1610649367.514333, endtime=1610649404.4769244, additional_info={'error': 'Timeout', 'configuration_origin': 'Random Search'})),\n",
              "             (RunKey(config_id=47, instance_id='{\"task_id\": \"98b85bc476de34e3b5187670f5f8e445\"}', seed=0, budget=0.0),\n",
              "              RunValue(cost=0.9988662464002015, time=8.562312602996826, status=<StatusType.SUCCESS: 1>, starttime=1610649369.1165957, endtime=1610649378.3356004, additional_info={'duration': 2.3908531665802, 'num_run': 48, 'train_loss': 0.9991013287200333, 'configuration_origin': 'Random Search'})),\n",
              "             (RunKey(config_id=48, instance_id='{\"task_id\": \"98b85bc476de34e3b5187670f5f8e445\"}', seed=0, budget=0.0),\n",
              "              RunValue(cost=0.8811881364327312, time=15.937815189361572, status=<StatusType.SUCCESS: 1>, starttime=1610649392.5315702, endtime=1610649408.7292151, additional_info={'duration': 11.026803493499756, 'num_run': 49, 'train_loss': 0.8649121520891149, 'configuration_origin': 'Random Search (sorted)'})),\n",
              "             (RunKey(config_id=49, instance_id='{\"task_id\": \"98b85bc476de34e3b5187670f5f8e445\"}', seed=0, budget=0.0),\n",
              "              RunValue(cost=0.8940345647071122, time=13.003324031829834, status=<StatusType.SUCCESS: 1>, starttime=1610649414.1443627, endtime=1610649427.7849977, additional_info={'duration': 8.398810625076294, 'num_run': 50, 'train_loss': 0.8822329462463595, 'configuration_origin': 'Local Search'})),\n",
              "             (RunKey(config_id=50, instance_id='{\"task_id\": \"98b85bc476de34e3b5187670f5f8e445\"}', seed=0, budget=0.0),\n",
              "              RunValue(cost=1.0, time=35.538501262664795, status=<StatusType.TIMEOUT: 2>, starttime=1610649415.3035295, endtime=1610649451.955955, additional_info={'error': 'Timeout', 'configuration_origin': 'Random Search'})),\n",
              "             (RunKey(config_id=51, instance_id='{\"task_id\": \"98b85bc476de34e3b5187670f5f8e445\"}', seed=0, budget=0.0),\n",
              "              RunValue(cost=1.0072131894028316, time=18.46649169921875, status=<StatusType.SUCCESS: 1>, starttime=1610649416.8782945, endtime=1610649435.7016802, additional_info={'duration': 12.493643045425415, 'num_run': 52, 'train_loss': 1.0081913596044474, 'configuration_origin': 'Random Search'})),\n",
              "             (RunKey(config_id=52, instance_id='{\"task_id\": \"98b85bc476de34e3b5187670f5f8e445\"}', seed=0, budget=0.0),\n",
              "              RunValue(cost=0.9170375539711901, time=14.42223572731018, status=<StatusType.SUCCESS: 1>, starttime=1610649441.661518, endtime=1610649456.6392877, additional_info={'duration': 8.192187547683716, 'num_run': 53, 'train_loss': 0.9099023659723008, 'configuration_origin': 'Local Search'})),\n",
              "             (RunKey(config_id=53, instance_id='{\"task_id\": \"98b85bc476de34e3b5187670f5f8e445\"}', seed=0, budget=0.0),\n",
              "              RunValue(cost=1.0, time=36.480751514434814, status=<StatusType.TIMEOUT: 2>, starttime=1610649443.3280616, endtime=1610649480.9214942, additional_info={'error': 'Timeout', 'configuration_origin': 'Random Search'})),\n",
              "             (RunKey(config_id=54, instance_id='{\"task_id\": \"98b85bc476de34e3b5187670f5f8e445\"}', seed=0, budget=0.0),\n",
              "              RunValue(cost=1.0, time=37.03936529159546, status=<StatusType.TIMEOUT: 2>, starttime=1610649445.4069052, endtime=1610649483.476754, additional_info={'error': 'Timeout', 'configuration_origin': 'Random Search'})),\n",
              "             (RunKey(config_id=55, instance_id='{\"task_id\": \"98b85bc476de34e3b5187670f5f8e445\"}', seed=0, budget=0.0),\n",
              "              RunValue(cost=0.8811937697167741, time=27.871639251708984, status=<StatusType.SUCCESS: 1>, starttime=1610649472.5032375, endtime=1610649501.2131732, additional_info={'duration': 21.790488481521606, 'num_run': 56, 'train_loss': 0.8649122168308717, 'configuration_origin': 'Local Search'})),\n",
              "             (RunKey(config_id=56, instance_id='{\"task_id\": \"98b85bc476de34e3b5187670f5f8e445\"}', seed=0, budget=0.0),\n",
              "              RunValue(cost=1.0, time=34.910224199295044, status=<StatusType.TIMEOUT: 2>, starttime=1610649497.4985309, endtime=1610649533.4469566, additional_info={'error': 'Timeout', 'configuration_origin': 'Random Search (sorted)'})),\n",
              "             (RunKey(config_id=57, instance_id='{\"task_id\": \"98b85bc476de34e3b5187670f5f8e445\"}', seed=0, budget=0.0),\n",
              "              RunValue(cost=1.0000002907493608, time=16.8421311378479, status=<StatusType.SUCCESS: 1>, starttime=1610649499.5161352, endtime=1610649516.83365, additional_info={'duration': 11.649027109146118, 'num_run': 58, 'train_loss': 1.0000157213785343, 'configuration_origin': 'Random Search'})),\n",
              "             (RunKey(config_id=58, instance_id='{\"task_id\": \"98b85bc476de34e3b5187670f5f8e445\"}', seed=0, budget=0.0),\n",
              "              RunValue(cost=0.8894461894790441, time=22.89522624015808, status=<StatusType.SUCCESS: 1>, starttime=1610649522.7275813, endtime=1610649546.1376824, additional_info={'duration': 17.3899827003479, 'num_run': 59, 'train_loss': 0.6511678244762571, 'configuration_origin': 'Local Search'})),\n",
              "             (RunKey(config_id=59, instance_id='{\"task_id\": \"98b85bc476de34e3b5187670f5f8e445\"}', seed=0, budget=0.0),\n",
              "              RunValue(cost=1.0, time=35.86363482475281, status=<StatusType.TIMEOUT: 2>, starttime=1610649524.574823, endtime=1610649561.491195, additional_info={'error': 'Timeout', 'configuration_origin': 'Random Search'})),\n",
              "             (RunKey(config_id=60, instance_id='{\"task_id\": \"98b85bc476de34e3b5187670f5f8e445\"}', seed=0, budget=0.0),\n",
              "              RunValue(cost=0.8882388806629403, time=13.274550199508667, status=<StatusType.SUCCESS: 1>, starttime=1610649553.5088906, endtime=1610649567.0379949, additional_info={'duration': 7.395709276199341, 'num_run': 61, 'train_loss': 0.8765249006812194, 'configuration_origin': 'Local Search'})),\n",
              "             (RunKey(config_id=61, instance_id='{\"task_id\": \"98b85bc476de34e3b5187670f5f8e445\"}', seed=0, budget=0.0),\n",
              "              RunValue(cost=1.0, time=7.864721059799194, status=<StatusType.MEMOUT: 5>, starttime=1610649555.3596342, endtime=1610649565.0144978, additional_info={'error': 'Memout (used more than 3072 MB).', 'configuration_origin': 'Random Search'})),\n",
              "             (RunKey(config_id=62, instance_id='{\"task_id\": \"98b85bc476de34e3b5187670f5f8e445\"}', seed=0, budget=0.0),\n",
              "              RunValue(cost=0.9796247660698465, time=7.697619438171387, status=<StatusType.SUCCESS: 1>, starttime=1610649557.5313268, endtime=1610649565.764308, additional_info={'duration': 1.1734528541564941, 'num_run': 63, 'train_loss': 0.9775263032283551, 'configuration_origin': 'Random Search'})),\n",
              "             (RunKey(config_id=63, instance_id='{\"task_id\": \"98b85bc476de34e3b5187670f5f8e445\"}', seed=0, budget=0.0),\n",
              "              RunValue(cost=1.005751003585001, time=20.982502222061157, status=<StatusType.SUCCESS: 1>, starttime=1610649574.7748775, endtime=1610649596.019089, additional_info={'duration': 17.28282928466797, 'num_run': 64, 'train_loss': 0.9782075608549782, 'configuration_origin': 'Random Search (sorted)'})),\n",
              "             (RunKey(config_id=64, instance_id='{\"task_id\": \"98b85bc476de34e3b5187670f5f8e445\"}', seed=0, budget=0.0),\n",
              "              RunValue(cost=0.8873158297417277, time=9.265682935714722, status=<StatusType.SUCCESS: 1>, starttime=1610649597.722073, endtime=1610649607.2714448, additional_info={'duration': 5.351968288421631, 'num_run': 65, 'train_loss': 0.8733962691907182, 'configuration_origin': 'Local Search'})),\n",
              "             (RunKey(config_id=65, instance_id='{\"task_id\": \"98b85bc476de34e3b5187670f5f8e445\"}', seed=0, budget=0.0),\n",
              "              RunValue(cost=0.8812001749607491, time=28.6411874294281, status=<StatusType.SUCCESS: 1>, starttime=1610649617.6315694, endtime=1610649647.1621928, additional_info={'duration': 19.30922555923462, 'num_run': 66, 'train_loss': 0.8649123714969105, 'configuration_origin': 'Local Search'})),\n",
              "             (RunKey(config_id=66, instance_id='{\"task_id\": \"98b85bc476de34e3b5187670f5f8e445\"}', seed=0, budget=0.0),\n",
              "              RunValue(cost=0.8811879210566779, time=15.237281799316406, status=<StatusType.SUCCESS: 1>, starttime=1610649643.1361287, endtime=1610649658.7367098, additional_info={'duration': 10.704889059066772, 'num_run': 67, 'train_loss': 0.864912152115691, 'configuration_origin': 'Local Search'})),\n",
              "             (RunKey(config_id=67, instance_id='{\"task_id\": \"98b85bc476de34e3b5187670f5f8e445\"}', seed=0, budget=0.0),\n",
              "              RunValue(cost=1.0, time=34.11854815483093, status=<StatusType.TIMEOUT: 2>, starttime=1610649644.9699793, endtime=1610649680.190264, additional_info={'error': 'Timeout', 'configuration_origin': 'Random Search'})),\n",
              "             (RunKey(config_id=68, instance_id='{\"task_id\": \"98b85bc476de34e3b5187670f5f8e445\"}', seed=0, budget=0.0),\n",
              "              RunValue(cost=1.0, time=34.799500465393066, status=<StatusType.TIMEOUT: 2>, starttime=1610649667.8819666, endtime=1610649703.7017941, additional_info={'error': 'Timeout', 'configuration_origin': 'Local Search'})),\n",
              "             (RunKey(config_id=69, instance_id='{\"task_id\": \"98b85bc476de34e3b5187670f5f8e445\"}', seed=0, budget=0.0),\n",
              "              RunValue(cost=1.0, time=35.10768938064575, status=<StatusType.TIMEOUT: 2>, starttime=1610649692.7344222, endtime=1610649728.8619864, additional_info={'error': 'Timeout', 'configuration_origin': 'Local Search'})),\n",
              "             (RunKey(config_id=70, instance_id='{\"task_id\": \"98b85bc476de34e3b5187670f5f8e445\"}', seed=0, budget=0.0),\n",
              "              RunValue(cost=1.0, time=35.96657633781433, status=<StatusType.TIMEOUT: 2>, starttime=1610649694.825935, endtime=1610649731.8105059, additional_info={'error': 'Timeout', 'configuration_origin': 'Random Search'})),\n",
              "             (RunKey(config_id=71, instance_id='{\"task_id\": \"98b85bc476de34e3b5187670f5f8e445\"}', seed=0, budget=0.0),\n",
              "              RunValue(cost=1.0, time=34.077080965042114, status=<StatusType.TIMEOUT: 2>, starttime=1610649728.4146464, endtime=1610649763.5296617, additional_info={'error': 'Timeout', 'configuration_origin': 'Local Search'})),\n",
              "             (RunKey(config_id=72, instance_id='{\"task_id\": \"98b85bc476de34e3b5187670f5f8e445\"}', seed=0, budget=0.0),\n",
              "              RunValue(cost=0.8812003823413518, time=25.3457510471344, status=<StatusType.SUCCESS: 1>, starttime=1610649755.4597585, endtime=1610649781.0587535, additional_info={'duration': 19.53869915008545, 'num_run': 73, 'train_loss': 0.8649123988566723, 'configuration_origin': 'Local Search'})),\n",
              "             (RunKey(config_id=73, instance_id='{\"task_id\": \"98b85bc476de34e3b5187670f5f8e445\"}', seed=0, budget=0.0),\n",
              "              RunValue(cost=1.000133039952952, time=7.323582887649536, status=<StatusType.SUCCESS: 1>, starttime=1610649758.4985926, endtime=1610649766.2738557, additional_info={'duration': 1.1340525150299072, 'num_run': 74, 'train_loss': 1.0000504440112672, 'configuration_origin': 'Random Search'})),\n",
              "             (RunKey(config_id=74, instance_id='{\"task_id\": \"98b85bc476de34e3b5187670f5f8e445\"}', seed=0, budget=0.0),\n",
              "              RunValue(cost=1.0, time=33.455607414245605, status=<StatusType.TIMEOUT: 2>, starttime=1610649783.2663195, endtime=1610649817.7528477, additional_info={'error': 'Timeout', 'configuration_origin': 'Local Search'})),\n",
              "             (RunKey(config_id=75, instance_id='{\"task_id\": \"98b85bc476de34e3b5187670f5f8e445\"}', seed=0, budget=0.0),\n",
              "              RunValue(cost=0.8811996898378982, time=32.15830850601196, status=<StatusType.SUCCESS: 1>, starttime=1610649805.402297, endtime=1610649837.8590562, additional_info={'duration': 28.533064126968384, 'num_run': 76, 'train_loss': 0.864912456214478, 'configuration_origin': 'Local Search'})),\n",
              "             (RunKey(config_id=76, instance_id='{\"task_id\": \"98b85bc476de34e3b5187670f5f8e445\"}', seed=0, budget=0.0),\n",
              "              RunValue(cost=1.0, time=17.98322820663452, status=<StatusType.MEMOUT: 5>, starttime=1610649807.0574882, endtime=1610649826.8749502, additional_info={'error': 'Memout (used more than 3072 MB).', 'configuration_origin': 'Random Search'})),\n",
              "             (RunKey(config_id=77, instance_id='{\"task_id\": \"98b85bc476de34e3b5187670f5f8e445\"}', seed=0, budget=0.0),\n",
              "              RunValue(cost=0.9796247660698465, time=7.539034366607666, status=<StatusType.SUCCESS: 1>, starttime=1610649809.5289013, endtime=1610649817.749952, additional_info={'duration': 1.6842520236968994, 'num_run': 78, 'train_loss': 0.9775263032283551, 'configuration_origin': 'Random Search'})),\n",
              "             (RunKey(config_id=78, instance_id='{\"task_id\": \"98b85bc476de34e3b5187670f5f8e445\"}', seed=0, budget=0.0),\n",
              "              RunValue(cost=1.0, time=21.505001068115234, status=<StatusType.MEMOUT: 5>, starttime=1610649839.104965, endtime=1610649862.2148929, additional_info={'error': 'Memout (used more than 3072 MB).', 'configuration_origin': 'Local Search'})),\n",
              "             (RunKey(config_id=79, instance_id='{\"task_id\": \"98b85bc476de34e3b5187670f5f8e445\"}', seed=0, budget=0.0),\n",
              "              RunValue(cost=0.8811944911601104, time=19.62185311317444, status=<StatusType.SUCCESS: 1>, starttime=1610649862.267477, endtime=1610649882.1683238, additional_info={'duration': 15.643249750137329, 'num_run': 80, 'train_loss': 0.8649122284330725, 'configuration_origin': 'Local Search'})),\n",
              "             (RunKey(config_id=80, instance_id='{\"task_id\": \"98b85bc476de34e3b5187670f5f8e445\"}', seed=0, budget=0.0),\n",
              "              RunValue(cost=1.0, time=5.428752660751343, status=<StatusType.MEMOUT: 5>, starttime=1610649864.1760812, endtime=1610649870.9094982, additional_info={'error': 'Memout (used more than 3072 MB).', 'configuration_origin': 'Random Search'})),\n",
              "             (RunKey(config_id=81, instance_id='{\"task_id\": \"98b85bc476de34e3b5187670f5f8e445\"}', seed=0, budget=0.0),\n",
              "              RunValue(cost=0.8812032477683158, time=22.920921325683594, status=<StatusType.SUCCESS: 1>, starttime=1610649887.3078024, endtime=1610649910.5295143, additional_info={'duration': 19.44455909729004, 'num_run': 82, 'train_loss': 0.8649125445587744, 'configuration_origin': 'Local Search'})),\n",
              "             (RunKey(config_id=82, instance_id='{\"task_id\": \"98b85bc476de34e3b5187670f5f8e445\"}', seed=0, budget=0.0),\n",
              "              RunValue(cost=1.0, time=34.38653635978699, status=<StatusType.TIMEOUT: 2>, starttime=1610649913.0980175, endtime=1610649948.5153244, additional_info={'error': 'Timeout', 'configuration_origin': 'Local Search'})),\n",
              "             (RunKey(config_id=83, instance_id='{\"task_id\": \"98b85bc476de34e3b5187670f5f8e445\"}', seed=0, budget=0.0),\n",
              "              RunValue(cost=1.0, time=34.85901594161987, status=<StatusType.TIMEOUT: 2>, starttime=1610649915.0433788, endtime=1610649951.0010185, additional_info={'error': 'Timeout', 'configuration_origin': 'Random Search'})),\n",
              "             (RunKey(config_id=84, instance_id='{\"task_id\": \"98b85bc476de34e3b5187670f5f8e445\"}', seed=0, budget=0.0),\n",
              "              RunValue(cost=0.8811986711044599, time=23.07934880256653, status=<StatusType.SUCCESS: 1>, starttime=1610649949.560373, endtime=1610649972.9570842, additional_info={'duration': 19.517170429229736, 'num_run': 85, 'train_loss': 0.8649123316465267, 'configuration_origin': 'Local Search'})),\n",
              "             (RunKey(config_id=85, instance_id='{\"task_id\": \"98b85bc476de34e3b5187670f5f8e445\"}', seed=0, budget=0.0),\n",
              "              RunValue(cost=1.0, time=33.703739166259766, status=<StatusType.TIMEOUT: 2>, starttime=1610649974.5430324, endtime=1610650009.2699313, additional_info={'error': 'Timeout', 'configuration_origin': 'Local Search'})),\n",
              "             (RunKey(config_id=86, instance_id='{\"task_id\": \"98b85bc476de34e3b5187670f5f8e445\"}', seed=0, budget=0.0),\n",
              "              RunValue(cost=1.0, time=34.23530292510986, status=<StatusType.TIMEOUT: 2>, starttime=1610650004.286528, endtime=1610650039.5347762, additional_info={'error': 'Timeout', 'configuration_origin': 'Local Search'})),\n",
              "             (RunKey(config_id=87, instance_id='{\"task_id\": \"98b85bc476de34e3b5187670f5f8e445\"}', seed=0, budget=0.0),\n",
              "              RunValue(cost=0.9999626045325456, time=7.745409727096558, status=<StatusType.SUCCESS: 1>, starttime=1610650006.6456952, endtime=1610650015.3804924, additional_info={'duration': 2.6873977184295654, 'num_run': 88, 'train_loss': 0.9999561951350585, 'configuration_origin': 'Random Search'})),\n",
              "             (RunKey(config_id=88, instance_id='{\"task_id\": \"98b85bc476de34e3b5187670f5f8e445\"}', seed=0, budget=0.0),\n",
              "              RunValue(cost=0.9996702081053107, time=9.314058065414429, status=<StatusType.SUCCESS: 1>, starttime=1610650009.4205725, endtime=1610650019.6524105, additional_info={'duration': 2.280137538909912, 'num_run': 89, 'train_loss': 0.9995011597133336, 'configuration_origin': 'Random Search'})),\n",
              "             (RunKey(config_id=89, instance_id='{\"task_id\": \"98b85bc476de34e3b5187670f5f8e445\"}', seed=0, budget=0.0),\n",
              "              RunValue(cost=1.0, time=36.92722511291504, status=<StatusType.MEMOUT: 5>, starttime=1610650012.9264407, endtime=1610650051.1109192, additional_info={'error': 'Memout (used more than 3072 MB).', 'configuration_origin': 'Random Search'})),\n",
              "             (RunKey(config_id=90, instance_id='{\"task_id\": \"98b85bc476de34e3b5187670f5f8e445\"}', seed=0, budget=0.0),\n",
              "              RunValue(cost=0.9916491076016672, time=11.337493181228638, status=<StatusType.SUCCESS: 1>, starttime=1610650017.3708897, endtime=1610650029.6828587, additional_info={'duration': 3.5573654174804688, 'num_run': 91, 'train_loss': 0.9896482158049176, 'configuration_origin': 'Random Search'})),\n",
              "             (RunKey(config_id=91, instance_id='{\"task_id\": \"98b85bc476de34e3b5187670f5f8e445\"}', seed=0, budget=0.0),\n",
              "              RunValue(cost=0.99354306451276, time=9.788430452346802, status=<StatusType.SUCCESS: 1>, starttime=1610650022.5515919, endtime=1610650033.0207043, additional_info={'duration': 1.7088310718536377, 'num_run': 92, 'train_loss': 0.9929667040158472, 'configuration_origin': 'Random Search'})),\n",
              "             (RunKey(config_id=92, instance_id='{\"task_id\": \"98b85bc476de34e3b5187670f5f8e445\"}', seed=0, budget=0.0),\n",
              "              RunValue(cost=0.8812081576398043, time=25.154860019683838, status=<StatusType.SUCCESS: 1>, starttime=1610650052.528726, endtime=1610650077.9483085, additional_info={'duration': 21.380842208862305, 'num_run': 93, 'train_loss': 0.8649130474693201, 'configuration_origin': 'Local Search'})),\n",
              "             (RunKey(config_id=93, instance_id='{\"task_id\": \"98b85bc476de34e3b5187670f5f8e445\"}', seed=0, budget=0.0),\n",
              "              RunValue(cost=0.9513675023835183, time=13.232951641082764, status=<StatusType.SUCCESS: 1>, starttime=1610650079.2814116, endtime=1610650092.8204215, additional_info={'duration': 9.285949468612671, 'num_run': 94, 'train_loss': 0.9388453786420334, 'configuration_origin': 'Local Search'})),\n",
              "             (RunKey(config_id=94, instance_id='{\"task_id\": \"98b85bc476de34e3b5187670f5f8e445\"}', seed=0, budget=0.0),\n",
              "              RunValue(cost=0.8812004764695415, time=27.035388946533203, status=<StatusType.SUCCESS: 1>, starttime=1610650103.3507328, endtime=1610650130.688994, additional_info={'duration': 23.62593913078308, 'num_run': 95, 'train_loss': 0.8649124303467206, 'configuration_origin': 'Local Search'})),\n",
              "             (RunKey(config_id=95, instance_id='{\"task_id\": \"98b85bc476de34e3b5187670f5f8e445\"}', seed=0, budget=0.0),\n",
              "              RunValue(cost=1.0, time=33.84663391113281, status=<StatusType.TIMEOUT: 2>, starttime=1610650131.178866, endtime=1610650166.0576284, additional_info={'error': 'Timeout', 'configuration_origin': 'Local Search'})),\n",
              "             (RunKey(config_id=96, instance_id='{\"task_id\": \"98b85bc476de34e3b5187670f5f8e445\"}', seed=0, budget=0.0),\n",
              "              RunValue(cost=1.0, time=34.969629764556885, status=<StatusType.TIMEOUT: 2>, starttime=1610650133.3604004, endtime=1610650169.3495586, additional_info={'error': 'Timeout', 'configuration_origin': 'Random Search'})),\n",
              "             (RunKey(config_id=97, instance_id='{\"task_id\": \"98b85bc476de34e3b5187670f5f8e445\"}', seed=0, budget=0.0),\n",
              "              RunValue(cost=1.0, time=36.175517320632935, status=<StatusType.TIMEOUT: 2>, starttime=1610650136.2385223, endtime=1610650173.4569807, additional_info={'error': 'Timeout', 'configuration_origin': 'Random Search'})),\n",
              "             (RunKey(config_id=98, instance_id='{\"task_id\": \"98b85bc476de34e3b5187670f5f8e445\"}', seed=0, budget=0.0),\n",
              "              RunValue(cost=1.0, time=38.06925129890442, status=<StatusType.TIMEOUT: 2>, starttime=1610650140.1659036, endtime=1610650179.2468922, additional_info={'error': 'Timeout', 'configuration_origin': 'Random Search'})),\n",
              "             (RunKey(config_id=99, instance_id='{\"task_id\": \"98b85bc476de34e3b5187670f5f8e445\"}', seed=0, budget=0.0),\n",
              "              RunValue(cost=0.8811881367454881, time=9.490407705307007, status=<StatusType.SUCCESS: 1>, starttime=1610650182.762108, endtime=1610650192.5768747, additional_info={'duration': 6.126337766647339, 'num_run': 100, 'train_loss': 0.8649121520891148, 'configuration_origin': 'Local Search'})),\n",
              "             (RunKey(config_id=100, instance_id='{\"task_id\": \"98b85bc476de34e3b5187670f5f8e445\"}', seed=0, budget=0.0),\n",
              "              RunValue(cost=1.0, time=33.72442078590393, status=<StatusType.TIMEOUT: 2>, starttime=1610650202.576742, endtime=1610650237.314484, additional_info={'error': 'Timeout', 'configuration_origin': 'Local Search'})),\n",
              "             (RunKey(config_id=101, instance_id='{\"task_id\": \"98b85bc476de34e3b5187670f5f8e445\"}', seed=0, budget=0.0),\n",
              "              RunValue(cost=0.8812002518022433, time=20.02183246612549, status=<StatusType.SUCCESS: 1>, starttime=1610650237.2715592, endtime=1610650257.5656419, additional_info={'duration': 17.549202919006348, 'num_run': 102, 'train_loss': 0.8649124077395262, 'configuration_origin': 'Local Search'})),\n",
              "             (RunKey(config_id=102, instance_id='{\"task_id\": \"98b85bc476de34e3b5187670f5f8e445\"}', seed=0, budget=0.0),\n",
              "              RunValue(cost=0.8812028266463092, time=19.566434383392334, status=<StatusType.SUCCESS: 1>, starttime=1610650260.4670653, endtime=1610650280.297351, additional_info={'duration': 16.19310450553894, 'num_run': 103, 'train_loss': 0.8649125159012021, 'configuration_origin': 'Local Search'})),\n",
              "             (RunKey(config_id=103, instance_id='{\"task_id\": \"98b85bc476de34e3b5187670f5f8e445\"}', seed=0, budget=0.0),\n",
              "              RunValue(cost=1.0, time=33.13982939720154, status=<StatusType.TIMEOUT: 2>, starttime=1610650283.476427, endtime=1610650317.6280115, additional_info={'error': 'Timeout', 'configuration_origin': 'Local Search'})),\n",
              "             (RunKey(config_id=104, instance_id='{\"task_id\": \"98b85bc476de34e3b5187670f5f8e445\"}', seed=0, budget=0.0),\n",
              "              RunValue(cost=0.8811881049336614, time=9.209698915481567, status=<StatusType.SUCCESS: 1>, starttime=1610650314.6822667, endtime=1610650324.1706104, additional_info={'duration': 6.026478290557861, 'num_run': 105, 'train_loss': 0.8649121520897305, 'configuration_origin': 'Local Search'})),\n",
              "             (RunKey(config_id=105, instance_id='{\"task_id\": \"98b85bc476de34e3b5187670f5f8e445\"}', seed=0, budget=0.0),\n",
              "              RunValue(cost=1.0, time=34.113322019577026, status=<StatusType.TIMEOUT: 2>, starttime=1610650332.0007164, endtime=1610650367.1469753, additional_info={'error': 'Timeout', 'configuration_origin': 'Local Search'})),\n",
              "             (RunKey(config_id=106, instance_id='{\"task_id\": \"98b85bc476de34e3b5187670f5f8e445\"}', seed=0, budget=0.0),\n",
              "              RunValue(cost=1.0, time=34.659610986709595, status=<StatusType.TIMEOUT: 2>, starttime=1610650334.4643407, endtime=1610650370.1348765, additional_info={'error': 'Timeout', 'configuration_origin': 'Random Search'})),\n",
              "             (RunKey(config_id=107, instance_id='{\"task_id\": \"98b85bc476de34e3b5187670f5f8e445\"}', seed=0, budget=0.0),\n",
              "              RunValue(cost=1.0, time=37.959912061691284, status=<StatusType.TIMEOUT: 2>, starttime=1610650338.1062007, endtime=1610650377.0940058, additional_info={'error': 'Timeout', 'configuration_origin': 'Random Search'})),\n",
              "             (RunKey(config_id=108, instance_id='{\"task_id\": \"98b85bc476de34e3b5187670f5f8e445\"}', seed=0, budget=0.0),\n",
              "              RunValue(cost=1.0, time=39.24675989151001, status=<StatusType.TIMEOUT: 2>, starttime=1610650342.6511304, endtime=1610650382.9105356, additional_info={'error': 'Timeout', 'configuration_origin': 'Random Search'})),\n",
              "             (RunKey(config_id=109, instance_id='{\"task_id\": \"98b85bc476de34e3b5187670f5f8e445\"}', seed=0, budget=0.0),\n",
              "              RunValue(cost=0.8811893719249031, time=22.302340269088745, status=<StatusType.SUCCESS: 1>, starttime=1610650385.7274406, endtime=1610650408.2800772, additional_info={'duration': 18.774380922317505, 'num_run': 110, 'train_loss': 0.8649123661137117, 'configuration_origin': 'Local Search'})),\n",
              "             (RunKey(config_id=110, instance_id='{\"task_id\": \"98b85bc476de34e3b5187670f5f8e445\"}', seed=0, budget=0.0),\n",
              "              RunValue(cost=1.0082625118233328, time=5.6292405128479, status=<StatusType.SUCCESS: 1>, starttime=1610650388.656018, endtime=1610650394.8354142, additional_info={'duration': 0.9866864681243896, 'num_run': 111, 'train_loss': 1.0080157856622758, 'configuration_origin': 'Random Search'})),\n",
              "             (RunKey(config_id=111, instance_id='{\"task_id\": \"98b85bc476de34e3b5187670f5f8e445\"}', seed=0, budget=0.0),\n",
              "              RunValue(cost=0.8811892972729652, time=22.99127507209778, status=<StatusType.SUCCESS: 1>, starttime=1610650413.0587535, endtime=1610650436.3072894, additional_info={'duration': 18.98192262649536, 'num_run': 112, 'train_loss': 0.8649123216616622, 'configuration_origin': 'Local Search'})),\n",
              "             (RunKey(config_id=112, instance_id='{\"task_id\": \"98b85bc476de34e3b5187670f5f8e445\"}', seed=0, budget=0.0),\n",
              "              RunValue(cost=0.9981418172794301, time=5.781032562255859, status=<StatusType.SUCCESS: 1>, starttime=1610650415.6596408, endtime=1610650421.9093752, additional_info={'duration': 1.150317907333374, 'num_run': 113, 'train_loss': 0.999012872228677, 'configuration_origin': 'Random Search'})),\n",
              "             (RunKey(config_id=113, instance_id='{\"task_id\": \"98b85bc476de34e3b5187670f5f8e445\"}', seed=0, budget=0.0),\n",
              "              RunValue(cost=1.0, time=33.69292712211609, status=<StatusType.TIMEOUT: 2>, starttime=1610650445.6392314, endtime=1610650480.359989, additional_info={'error': 'Timeout', 'configuration_origin': 'Local Search'})),\n",
              "             (RunKey(config_id=114, instance_id='{\"task_id\": \"98b85bc476de34e3b5187670f5f8e445\"}', seed=0, budget=0.0),\n",
              "              RunValue(cost=1.000020189030707, time=6.043076276779175, status=<StatusType.SUCCESS: 1>, starttime=1610650448.7615113, endtime=1610650455.3350968, additional_info={'duration': 1.227243423461914, 'num_run': 115, 'train_loss': 1.0000000000000038, 'configuration_origin': 'Random Search'})),\n",
              "             (RunKey(config_id=115, instance_id='{\"task_id\": \"98b85bc476de34e3b5187670f5f8e445\"}', seed=0, budget=0.0),\n",
              "              RunValue(cost=0.9513669551062749, time=16.842987775802612, status=<StatusType.SUCCESS: 1>, starttime=1610650473.64665, endtime=1610650490.8286974, additional_info={'duration': 10.734821081161499, 'num_run': 116, 'train_loss': 0.9388453774447058, 'configuration_origin': 'Local Search'})),\n",
              "             (RunKey(config_id=116, instance_id='{\"task_id\": \"98b85bc476de34e3b5187670f5f8e445\"}', seed=0, budget=0.0),\n",
              "              RunValue(cost=0.8811881373194681, time=11.49915361404419, status=<StatusType.SUCCESS: 1>, starttime=1610650498.4002132, endtime=1610650510.3670897, additional_info={'duration': 8.187021970748901, 'num_run': 117, 'train_loss': 0.8649121520891148, 'configuration_origin': 'Local Search'})),\n",
              "             (RunKey(config_id=117, instance_id='{\"task_id\": \"98b85bc476de34e3b5187670f5f8e445\"}', seed=0, budget=0.0),\n",
              "              RunValue(cost=0.9962590895169515, time=18.483059406280518, status=<StatusType.SUCCESS: 1>, starttime=1610650520.8475873, endtime=1610650539.6963758, additional_info={'duration': 14.341701030731201, 'num_run': 118, 'train_loss': 0.9880086087689153, 'configuration_origin': 'Local Search'})),\n",
              "             (RunKey(config_id=118, instance_id='{\"task_id\": \"98b85bc476de34e3b5187670f5f8e445\"}', seed=0, budget=0.0),\n",
              "              RunValue(cost=1.0, time=34.941943407058716, status=<StatusType.TIMEOUT: 2>, starttime=1610650524.0615938, endtime=1610650560.096368, additional_info={'error': 'Timeout', 'configuration_origin': 'Random Search'})),\n",
              "             (RunKey(config_id=119, instance_id='{\"task_id\": \"98b85bc476de34e3b5187670f5f8e445\"}', seed=0, budget=0.0),\n",
              "              RunValue(cost=0.8811881361132744, time=17.63108491897583, status=<StatusType.SUCCESS: 1>, starttime=1610650556.8288784, endtime=1610650574.747631, additional_info={'duration': 13.277352094650269, 'num_run': 120, 'train_loss': 0.8649121520891148, 'configuration_origin': 'Local Search'})),\n",
              "             (RunKey(config_id=120, instance_id='{\"task_id\": \"98b85bc476de34e3b5187670f5f8e445\"}', seed=0, budget=0.0),\n",
              "              RunValue(cost=0.8319861084558272, time=15.06883192062378, status=<StatusType.SUCCESS: 1>, starttime=1610650560.0619707, endtime=1610650575.369221, additional_info={'duration': 10.809192657470703, 'num_run': 121, 'train_loss': 0.8025409368862615, 'configuration_origin': 'Random Search'})),\n",
              "             (RunKey(config_id=121, instance_id='{\"task_id\": \"98b85bc476de34e3b5187670f5f8e445\"}', seed=0, budget=0.0),\n",
              "              RunValue(cost=0.8787126837116326, time=20.267234086990356, status=<StatusType.SUCCESS: 1>, starttime=1610650586.6402166, endtime=1610650607.280755, additional_info={'duration': 17.014970302581787, 'num_run': 122, 'train_loss': 0.8630637630383858, 'configuration_origin': 'Local Search'})),\n",
              "             (RunKey(config_id=122, instance_id='{\"task_id\": \"98b85bc476de34e3b5187670f5f8e445\"}', seed=0, budget=0.0),\n",
              "              RunValue(cost=1.0, time=34.15935564041138, status=<StatusType.TIMEOUT: 2>, starttime=1610650589.8270018, endtime=1610650625.0069492, additional_info={'error': 'Timeout', 'configuration_origin': 'Random Search'})),\n",
              "             (RunKey(config_id=123, instance_id='{\"task_id\": \"98b85bc476de34e3b5187670f5f8e445\"}', seed=0, budget=0.0),\n",
              "              RunValue(cost=0.8811862576838949, time=25.664724349975586, status=<StatusType.SUCCESS: 1>, starttime=1610650619.666868, endtime=1610650646.0749831, additional_info={'duration': 20.78484082221985, 'num_run': 124, 'train_loss': 0.8649121546905632, 'configuration_origin': 'Local Search'})),\n",
              "             (RunKey(config_id=124, instance_id='{\"task_id\": \"98b85bc476de34e3b5187670f5f8e445\"}', seed=0, budget=0.0),\n",
              "              RunValue(cost=0.9971489652329453, time=6.121710538864136, status=<StatusType.SUCCESS: 1>, starttime=1610650623.6855123, endtime=1610650630.4845817, additional_info={'duration': 1.477320671081543, 'num_run': 125, 'train_loss': 0.9978085089873643, 'configuration_origin': 'Random Search'})),\n",
              "             (RunKey(config_id=125, instance_id='{\"task_id\": \"98b85bc476de34e3b5187670f5f8e445\"}', seed=0, budget=0.0),\n",
              "              RunValue(cost=1.0, time=35.61024522781372, status=<StatusType.TIMEOUT: 2>, starttime=1610650627.8413289, endtime=1610650664.4659305, additional_info={'error': 'Timeout', 'configuration_origin': 'Random Search'})),\n",
              "             (RunKey(config_id=126, instance_id='{\"task_id\": \"98b85bc476de34e3b5187670f5f8e445\"}', seed=0, budget=0.0),\n",
              "              RunValue(cost=1.1529094831725168, time=17.033434629440308, status=<StatusType.SUCCESS: 1>, starttime=1610650632.581839, endtime=1610650650.13257, additional_info={'duration': 9.955206394195557, 'num_run': 127, 'train_loss': 0.017764920993400546, 'configuration_origin': 'Random Search'})),\n",
              "             (RunKey(config_id=127, instance_id='{\"task_id\": \"98b85bc476de34e3b5187670f5f8e445\"}', seed=0, budget=0.0),\n",
              "              RunValue(cost=0.8811870220664645, time=12.776211977005005, status=<StatusType.SUCCESS: 1>, starttime=1610650668.113506, endtime=1610650681.171578, additional_info={'duration': 9.56860065460205, 'num_run': 128, 'train_loss': 0.8649121536782911, 'configuration_origin': 'Local Search'})),\n",
              "             (RunKey(config_id=128, instance_id='{\"task_id\": \"98b85bc476de34e3b5187670f5f8e445\"}', seed=0, budget=0.0),\n",
              "              RunValue(cost=0.8811881371819055, time=10.93326711654663, status=<StatusType.SUCCESS: 1>, starttime=1610650695.3706772, endtime=1610650706.696573, additional_info={'duration': 7.2846999168396, 'num_run': 129, 'train_loss': 0.8649121520891149, 'configuration_origin': 'Local Search'})),\n",
              "             (RunKey(config_id=129, instance_id='{\"task_id\": \"98b85bc476de34e3b5187670f5f8e445\"}', seed=0, budget=0.0),\n",
              "              RunValue(cost=0.8811976428855779, time=22.683899402618408, status=<StatusType.SUCCESS: 1>, starttime=1610650719.678608, endtime=1610650742.654394, additional_info={'duration': 18.990161180496216, 'num_run': 130, 'train_loss': 0.864912345047383, 'configuration_origin': 'Local Search'})),\n",
              "             (RunKey(config_id=130, instance_id='{\"task_id\": \"98b85bc476de34e3b5187670f5f8e445\"}', seed=0, budget=0.0),\n",
              "              RunValue(cost=0.8811881376274394, time=13.805602312088013, status=<StatusType.SUCCESS: 1>, starttime=1610650751.21485, endtime=1610650765.2708368, additional_info={'duration': 10.514668703079224, 'num_run': 131, 'train_loss': 0.8649121520891148, 'configuration_origin': 'Local Search'})),\n",
              "             (RunKey(config_id=131, instance_id='{\"task_id\": \"98b85bc476de34e3b5187670f5f8e445\"}', seed=0, budget=0.0),\n",
              "              RunValue(cost=0.8811881370764876, time=20.249438285827637, status=<StatusType.SUCCESS: 1>, starttime=1610650778.0378118, endtime=1610650798.8383071, additional_info={'duration': 16.623008966445923, 'num_run': 132, 'train_loss': 0.8649121520891148, 'configuration_origin': 'Local Search'})),\n",
              "             (RunKey(config_id=132, instance_id='{\"task_id\": \"98b85bc476de34e3b5187670f5f8e445\"}', seed=0, budget=0.0),\n",
              "              RunValue(cost=1.0, time=34.80240178108215, status=<StatusType.TIMEOUT: 2>, starttime=1610650781.1495872, endtime=1610650817.20225, additional_info={'error': 'Timeout', 'configuration_origin': 'Random Search'})),\n",
              "             (RunKey(config_id=133, instance_id='{\"task_id\": \"98b85bc476de34e3b5187670f5f8e445\"}', seed=0, budget=0.0),\n",
              "              RunValue(cost=1.0, time=32.88992428779602, status=<StatusType.TIMEOUT: 2>, starttime=1610650816.8899844, endtime=1610650851.0680325, additional_info={'error': 'Timeout', 'configuration_origin': 'Local Search'})),\n",
              "             (RunKey(config_id=134, instance_id='{\"task_id\": \"98b85bc476de34e3b5187670f5f8e445\"}', seed=0, budget=0.0),\n",
              "              RunValue(cost=0.8811881259702565, time=13.297249555587769, status=<StatusType.SUCCESS: 1>, starttime=1610650852.3514438, endtime=1610650865.931555, additional_info={'duration': 10.01044750213623, 'num_run': 135, 'train_loss': 0.8649121520891765, 'configuration_origin': 'Local Search'})),\n",
              "             (RunKey(config_id=135, instance_id='{\"task_id\": \"98b85bc476de34e3b5187670f5f8e445\"}', seed=0, budget=0.0),\n",
              "              RunValue(cost=0.836031547375121, time=10.098923921585083, status=<StatusType.SUCCESS: 1>, starttime=1610650873.5861762, endtime=1610650884.08961, additional_info={'duration': 6.39516544342041, 'num_run': 136, 'train_loss': 0.8055338877883791, 'configuration_origin': 'Random Search (sorted)'})),\n",
              "             (RunKey(config_id=136, instance_id='{\"task_id\": \"98b85bc476de34e3b5187670f5f8e445\"}', seed=0, budget=0.0),\n",
              "              RunValue(cost=0.8811883496368292, time=22.77580952644348, status=<StatusType.SUCCESS: 1>, starttime=1610650898.6288147, endtime=1610650921.6773412, additional_info={'duration': 19.0345618724823, 'num_run': 137, 'train_loss': 0.8649124044961964, 'configuration_origin': 'Local Search'})),\n",
              "             (RunKey(config_id=137, instance_id='{\"task_id\": \"98b85bc476de34e3b5187670f5f8e445\"}', seed=0, budget=0.0),\n",
              "              RunValue(cost=1.6909451455929405, time=9.39631199836731, status=<StatusType.SUCCESS: 1>, starttime=1610650926.5674908, endtime=1610650936.4608085, additional_info={'duration': 5.671929121017456, 'num_run': 138, 'train_loss': 1.6992204347447282, 'configuration_origin': 'Local Search'})),\n",
              "             (RunKey(config_id=138, instance_id='{\"task_id\": \"98b85bc476de34e3b5187670f5f8e445\"}', seed=0, budget=0.0),\n",
              "              RunValue(cost=0.8811877285764181, time=12.676683902740479, status=<StatusType.SUCCESS: 1>, starttime=1610650948.410808, endtime=1610650961.3399673, additional_info={'duration': 9.310125589370728, 'num_run': 139, 'train_loss': 0.8649121521849972, 'configuration_origin': 'Local Search'})),\n",
              "             (RunKey(config_id=139, instance_id='{\"task_id\": \"98b85bc476de34e3b5187670f5f8e445\"}', seed=0, budget=0.0),\n",
              "              RunValue(cost=0.9796247660698465, time=4.599713563919067, status=<StatusType.SUCCESS: 1>, starttime=1610650951.8017387, endtime=1610650956.863936, additional_info={'duration': 0.708885669708252, 'num_run': 140, 'train_loss': 0.9775263032283551, 'configuration_origin': 'Random Search'})),\n",
              "             (RunKey(config_id=140, instance_id='{\"task_id\": \"98b85bc476de34e3b5187670f5f8e445\"}', seed=0, budget=0.0),\n",
              "              RunValue(cost=1.6909451455929405, time=9.32385778427124, status=<StatusType.SUCCESS: 1>, starttime=1610650974.6379423, endtime=1610650984.30652, additional_info={'duration': 5.931881666183472, 'num_run': 141, 'train_loss': 1.6992204347447282, 'configuration_origin': 'Local Search'})),\n",
              "             (RunKey(config_id=141, instance_id='{\"task_id\": \"98b85bc476de34e3b5187670f5f8e445\"}', seed=0, budget=0.0),\n",
              "              RunValue(cost=1.6909451455929405, time=6.586851119995117, status=<StatusType.SUCCESS: 1>, starttime=1610650997.7343323, endtime=1610651004.558638, additional_info={'duration': 3.3077354431152344, 'num_run': 142, 'train_loss': 1.6992204347447282, 'configuration_origin': 'Local Search'})),\n",
              "             (RunKey(config_id=142, instance_id='{\"task_id\": \"98b85bc476de34e3b5187670f5f8e445\"}', seed=0, budget=0.0),\n",
              "              RunValue(cost=0.8508403096878339, time=12.28835678100586, status=<StatusType.SUCCESS: 1>, starttime=1610651018.9359777, endtime=1610651031.80432, additional_info={'duration': 8.250345706939697, 'num_run': 143, 'train_loss': 0.8286697216096032, 'configuration_origin': 'Local Search'})),\n",
              "             (RunKey(config_id=143, instance_id='{\"task_id\": \"98b85bc476de34e3b5187670f5f8e445\"}', seed=0, budget=0.0),\n",
              "              RunValue(cost=1.0, time=33.63311433792114, status=<StatusType.TIMEOUT: 2>, starttime=1610651022.317695, endtime=1610651056.9649622, additional_info={'error': 'Timeout', 'configuration_origin': 'Random Search'})),\n",
              "             (RunKey(config_id=144, instance_id='{\"task_id\": \"98b85bc476de34e3b5187670f5f8e445\"}', seed=0, budget=0.0),\n",
              "              RunValue(cost=0.996181214300982, time=5.734905242919922, status=<StatusType.SUCCESS: 1>, starttime=1610651026.234327, endtime=1610651032.2658074, additional_info={'duration': 1.5724971294403076, 'num_run': 145, 'train_loss': 0.9974093432519875, 'configuration_origin': 'Random Search'})),\n",
              "             (RunKey(config_id=145, instance_id='{\"task_id\": \"98b85bc476de34e3b5187670f5f8e445\"}', seed=0, budget=0.0),\n",
              "              RunValue(cost=1.2359679641730046, time=12.797259092330933, status=<StatusType.SUCCESS: 1>, starttime=1610651050.9349222, endtime=1610651064.3628166, additional_info={'duration': 8.241277694702148, 'num_run': 146, 'train_loss': 1.240413169125144, 'configuration_origin': 'Local Search'})),\n",
              "             (RunKey(config_id=146, instance_id='{\"task_id\": \"98b85bc476de34e3b5187670f5f8e445\"}', seed=0, budget=0.0),\n",
              "              RunValue(cost=1.0, time=6.41794228553772, status=<StatusType.MEMOUT: 5>, starttime=1610651056.155882, endtime=1610651064.327068, additional_info={'error': 'Memout (used more than 3072 MB).', 'configuration_origin': 'Random Search'})),\n",
              "             (RunKey(config_id=147, instance_id='{\"task_id\": \"98b85bc476de34e3b5187670f5f8e445\"}', seed=0, budget=0.0),\n",
              "              RunValue(cost=1.0017872638779977, time=28.015705347061157, status=<StatusType.SUCCESS: 1>, starttime=1610651060.5295403, endtime=1610651089.3762066, additional_info={'duration': 22.31243109703064, 'num_run': 148, 'train_loss': 0.9536211231097412, 'configuration_origin': 'Random Search'})),\n",
              "             (RunKey(config_id=148, instance_id='{\"task_id\": \"98b85bc476de34e3b5187670f5f8e445\"}', seed=0, budget=0.0),\n",
              "              RunValue(cost=1.2359679641730046, time=17.965185165405273, status=<StatusType.SUCCESS: 1>, starttime=1610651083.2340114, endtime=1610651102.138127, additional_info={'duration': 11.790136814117432, 'num_run': 149, 'train_loss': 1.240413169125144, 'configuration_origin': 'Local Search'})),\n",
              "             (RunKey(config_id=149, instance_id='{\"task_id\": \"98b85bc476de34e3b5187670f5f8e445\"}', seed=0, budget=0.0),\n",
              "              RunValue(cost=1.0, time=34.46881461143494, status=<StatusType.TIMEOUT: 2>, starttime=1610651087.8603303, endtime=1610651124.1539135, additional_info={'error': 'Timeout', 'configuration_origin': 'Random Search'})),\n",
              "             (RunKey(config_id=150, instance_id='{\"task_id\": \"98b85bc476de34e3b5187670f5f8e445\"}', seed=0, budget=0.0),\n",
              "              RunValue(cost=1.0, time=36.51087188720703, status=<StatusType.TIMEOUT: 2>, starttime=1610651092.6879911, endtime=1610651130.2734153, additional_info={'error': 'Timeout', 'configuration_origin': 'Random Search'})),\n",
              "             (RunKey(config_id=151, instance_id='{\"task_id\": \"98b85bc476de34e3b5187670f5f8e445\"}', seed=0, budget=0.0),\n",
              "              RunValue(cost=1.0, time=36.01783299446106, status=<StatusType.TIMEOUT: 2>, starttime=1610651098.7206812, endtime=1610651135.7506475, additional_info={'error': 'Timeout', 'configuration_origin': 'Random Search'})),\n",
              "             (RunKey(config_id=152, instance_id='{\"task_id\": \"98b85bc476de34e3b5187670f5f8e445\"}', seed=0, budget=0.0),\n",
              "              RunValue(cost=1.0, time=37.231528997421265, status=<StatusType.TIMEOUT: 2>, starttime=1610651104.6754863, endtime=1610651142.9279563, additional_info={'error': 'Timeout', 'configuration_origin': 'Random Search'})),\n",
              "             (RunKey(config_id=153, instance_id='{\"task_id\": \"98b85bc476de34e3b5187670f5f8e445\"}', seed=0, budget=0.0),\n",
              "              RunValue(cost=1.0, time=37.53866195678711, status=<StatusType.TIMEOUT: 2>, starttime=1610651112.0887084, endtime=1610651150.6441839, additional_info={'error': 'Timeout', 'configuration_origin': 'Random Search'})),\n",
              "             (RunKey(config_id=154, instance_id='{\"task_id\": \"98b85bc476de34e3b5187670f5f8e445\"}', seed=0, budget=0.0),\n",
              "              RunValue(cost=0.8373763644107242, time=9.762564182281494, status=<StatusType.SUCCESS: 1>, starttime=1610651153.648742, endtime=1610651163.7991998, additional_info={'duration': 6.601006507873535, 'num_run': 155, 'train_loss': 0.8065604330742037, 'configuration_origin': 'Local Search'})),\n",
              "             (RunKey(config_id=155, instance_id='{\"task_id\": \"98b85bc476de34e3b5187670f5f8e445\"}', seed=0, budget=0.0),\n",
              "              RunValue(cost=1.247103046041223, time=21.521970987319946, status=<StatusType.SUCCESS: 1>, starttime=1610651157.749795, endtime=1610651179.5659933, additional_info={'duration': 17.526298999786377, 'num_run': 156, 'train_loss': 1.2560178668032482, 'configuration_origin': 'Random Search'})),\n",
              "             (RunKey(config_id=156, instance_id='{\"task_id\": \"98b85bc476de34e3b5187670f5f8e445\"}', seed=0, budget=0.0),\n",
              "              RunValue(cost=0.8811866854674743, time=15.697678804397583, status=<StatusType.SUCCESS: 1>, starttime=1610651184.0568166, endtime=1610651200.0275393, additional_info={'duration': 12.265650272369385, 'num_run': 157, 'train_loss': 0.8649121563082243, 'configuration_origin': 'Local Search'})),\n",
              "             (RunKey(config_id=157, instance_id='{\"task_id\": \"98b85bc476de34e3b5187670f5f8e445\"}', seed=0, budget=0.0),\n",
              "              RunValue(cost=0.8355356437218041, time=9.918556690216064, status=<StatusType.SUCCESS: 1>, starttime=1610651210.1708078, endtime=1610651220.396949, additional_info={'duration': 6.377936363220215, 'num_run': 158, 'train_loss': 0.8050078453679114, 'configuration_origin': 'Local Search'})),\n",
              "             (RunKey(config_id=158, instance_id='{\"task_id\": \"98b85bc476de34e3b5187670f5f8e445\"}', seed=0, budget=0.0),\n",
              "              RunValue(cost=0.8522980178569559, time=8.78197979927063, status=<StatusType.SUCCESS: 1>, starttime=1610651230.4345438, endtime=1610651239.6162226, additional_info={'duration': 5.022439956665039, 'num_run': 159, 'train_loss': 0.8203336340035563, 'configuration_origin': 'Local Search'})),\n",
              "             (RunKey(config_id=159, instance_id='{\"task_id\": \"98b85bc476de34e3b5187670f5f8e445\"}', seed=0, budget=0.0),\n",
              "              RunValue(cost=0.8630626252143117, time=9.754277229309082, status=<StatusType.SUCCESS: 1>, starttime=1610651251.3195932, endtime=1610651261.466742, additional_info={'duration': 5.89920711517334, 'num_run': 160, 'train_loss': 0.8332878325054267, 'configuration_origin': 'Local Search'})),\n",
              "             (RunKey(config_id=160, instance_id='{\"task_id\": \"98b85bc476de34e3b5187670f5f8e445\"}', seed=0, budget=0.0),\n",
              "              RunValue(cost=0.9001678372916742, time=9.797965288162231, status=<StatusType.SUCCESS: 1>, starttime=1610651272.6989121, endtime=1610651283.1667948, additional_info={'duration': 6.0881569385528564, 'num_run': 161, 'train_loss': 0.8704351730493486, 'configuration_origin': 'Local Search'})),\n",
              "             (RunKey(config_id=161, instance_id='{\"task_id\": \"98b85bc476de34e3b5187670f5f8e445\"}', seed=0, budget=0.0),\n",
              "              RunValue(cost=1.0, time=34.371063232421875, status=<StatusType.TIMEOUT: 2>, starttime=1610651276.799247, endtime=1610651312.1823983, additional_info={'error': 'Timeout', 'configuration_origin': 'Random Search'})),\n",
              "             (RunKey(config_id=162, instance_id='{\"task_id\": \"98b85bc476de34e3b5187670f5f8e445\"}', seed=0, budget=0.0),\n",
              "              RunValue(cost=0.8780274629691716, time=16.725027322769165, status=<StatusType.SUCCESS: 1>, starttime=1610651301.4941988, endtime=1610651318.8468454, additional_info={'duration': 11.142824172973633, 'num_run': 163, 'train_loss': 0.8497710380742319, 'configuration_origin': 'Local Search'})),\n",
              "             (RunKey(config_id=163, instance_id='{\"task_id\": \"98b85bc476de34e3b5187670f5f8e445\"}', seed=0, budget=0.0),\n",
              "              RunValue(cost=0.9987797516006326, time=16.270263671875, status=<StatusType.SUCCESS: 1>, starttime=1610651306.8426125, endtime=1610651323.3944051, additional_info={'duration': 10.435730934143066, 'num_run': 164, 'train_loss': 0.9986964081666633, 'configuration_origin': 'Random Search'})),\n",
              "             (RunKey(config_id=164, instance_id='{\"task_id\": \"98b85bc476de34e3b5187670f5f8e445\"}', seed=0, budget=0.0),\n",
              "              RunValue(cost=0.8357635874003442, time=10.936433553695679, status=<StatusType.SUCCESS: 1>, starttime=1610651334.5492394, endtime=1610651345.9939806, additional_info={'duration': 7.294644355773926, 'num_run': 165, 'train_loss': 0.8053187667918361, 'configuration_origin': 'Local Search'})),\n",
              "             (RunKey(config_id=165, instance_id='{\"task_id\": \"98b85bc476de34e3b5187670f5f8e445\"}', seed=0, budget=0.0),\n",
              "              RunValue(cost=0.8402028763056671, time=9.832494020462036, status=<StatusType.SUCCESS: 1>, starttime=1610651357.7710042, endtime=1610651367.974807, additional_info={'duration': 6.334288120269775, 'num_run': 166, 'train_loss': 0.8093439637127814, 'configuration_origin': 'Local Search'})),\n",
              "             (RunKey(config_id=166, instance_id='{\"task_id\": \"98b85bc476de34e3b5187670f5f8e445\"}', seed=0, budget=0.0),\n",
              "              RunValue(cost=0.8441751840734253, time=11.598688125610352, status=<StatusType.SUCCESS: 1>, starttime=1610651381.0548913, endtime=1610651393.2457805, additional_info={'duration': 7.99525260925293, 'num_run': 167, 'train_loss': 0.8133142834245268, 'configuration_origin': 'Local Search'})),\n",
              "             (RunKey(config_id=167, instance_id='{\"task_id\": \"98b85bc476de34e3b5187670f5f8e445\"}', seed=0, budget=0.0),\n",
              "              RunValue(cost=0.9970985563518889, time=6.102207183837891, status=<StatusType.SUCCESS: 1>, starttime=1610651385.197765, endtime=1610651391.7792003, additional_info={'duration': 1.2091703414916992, 'num_run': 168, 'train_loss': 0.9978210481079584, 'configuration_origin': 'Random Search'})),\n",
              "             (RunKey(config_id=168, instance_id='{\"task_id\": \"98b85bc476de34e3b5187670f5f8e445\"}', seed=0, budget=0.0),\n",
              "              RunValue(cost=0.8357635874003442, time=12.949063539505005, status=<StatusType.SUCCESS: 1>, starttime=1610651408.174592, endtime=1610651421.9824822, additional_info={'duration': 9.194988250732422, 'num_run': 169, 'train_loss': 0.8053187667918361, 'configuration_origin': 'Local Search'})),\n",
              "             (RunKey(config_id=169, instance_id='{\"task_id\": \"98b85bc476de34e3b5187670f5f8e445\"}', seed=0, budget=0.0),\n",
              "              RunValue(cost=0.9467699040546291, time=10.947003841400146, status=<StatusType.SUCCESS: 1>, starttime=1610651412.89148, endtime=1610651424.1958377, additional_info={'duration': 6.429617643356323, 'num_run': 170, 'train_loss': 0.0, 'configuration_origin': 'Random Search'})),\n",
              "             (RunKey(config_id=170, instance_id='{\"task_id\": \"98b85bc476de34e3b5187670f5f8e445\"}', seed=0, budget=0.0),\n",
              "              RunValue(cost=1.0413854881508393, time=32.87386178970337, status=<StatusType.SUCCESS: 1>, starttime=1610651418.8668852, endtime=1610651452.094599, additional_info={'duration': 26.60359025001526, 'num_run': 171, 'train_loss': 1.0459781562364368, 'configuration_origin': 'Random Search'})),\n",
              "             (RunKey(config_id=171, instance_id='{\"task_id\": \"98b85bc476de34e3b5187670f5f8e445\"}', seed=0, budget=0.0),\n",
              "              RunValue(cost=1.0, time=34.74139070510864, status=<StatusType.TIMEOUT: 2>, starttime=1610651424.5718281, endtime=1610651460.3351016, additional_info={'error': 'Timeout', 'configuration_origin': 'Random Search'})),\n",
              "             (RunKey(config_id=172, instance_id='{\"task_id\": \"98b85bc476de34e3b5187670f5f8e445\"}', seed=0, budget=0.0),\n",
              "              RunValue(cost=0.8292391206641397, time=9.530251264572144, status=<StatusType.SUCCESS: 1>, starttime=1610651456.3689904, endtime=1610651466.1674597, additional_info={'duration': 5.576526880264282, 'num_run': 173, 'train_loss': 0.7994347127594443, 'configuration_origin': 'Local Search'})),\n",
              "             (RunKey(config_id=173, instance_id='{\"task_id\": \"98b85bc476de34e3b5187670f5f8e445\"}', seed=0, budget=0.0),\n",
              "              RunValue(cost=0.8499057929765264, time=10.982158184051514, status=<StatusType.SUCCESS: 1>, starttime=1610651475.1080554, endtime=1610651486.476465, additional_info={'duration': 7.293118238449097, 'num_run': 174, 'train_loss': 0.8275078278707905, 'configuration_origin': 'Local Search'})),\n",
              "             (RunKey(config_id=174, instance_id='{\"task_id\": \"98b85bc476de34e3b5187670f5f8e445\"}', seed=0, budget=0.0),\n",
              "              RunValue(cost=0.8300839126242995, time=10.124053239822388, status=<StatusType.SUCCESS: 1>, starttime=1610651496.6869159, endtime=1610651507.3143067, additional_info={'duration': 6.758228540420532, 'num_run': 175, 'train_loss': 0.8004961582429934, 'configuration_origin': 'Local Search'})),\n",
              "             (RunKey(config_id=175, instance_id='{\"task_id\": \"98b85bc476de34e3b5187670f5f8e445\"}', seed=0, budget=0.0),\n",
              "              RunValue(cost=0.8482777944022558, time=11.189334392547607, status=<StatusType.SUCCESS: 1>, starttime=1610651518.805794, endtime=1610651530.2618442, additional_info={'duration': 7.4720752239227295, 'num_run': 176, 'train_loss': 0.8262449948327009, 'configuration_origin': 'Local Search'})),\n",
              "             (RunKey(config_id=176, instance_id='{\"task_id\": \"98b85bc476de34e3b5187670f5f8e445\"}', seed=0, budget=0.0),\n",
              "              RunValue(cost=0.8512546038632691, time=10.468392848968506, status=<StatusType.SUCCESS: 1>, starttime=1610651539.7479951, endtime=1610651550.5854113, additional_info={'duration': 6.777610778808594, 'num_run': 177, 'train_loss': 0.829674922169482, 'configuration_origin': 'Local Search'})),\n",
              "             (RunKey(config_id=177, instance_id='{\"task_id\": \"98b85bc476de34e3b5187670f5f8e445\"}', seed=0, budget=0.0),\n",
              "              RunValue(cost=0.834682175893491, time=12.228309154510498, status=<StatusType.SUCCESS: 1>, starttime=1610651561.6195467, endtime=1610651574.5053627, additional_info={'duration': 8.53816533088684, 'num_run': 178, 'train_loss': 0.8040537252374745, 'configuration_origin': 'Local Search'})),\n",
              "             (RunKey(config_id=178, instance_id='{\"task_id\": \"98b85bc476de34e3b5187670f5f8e445\"}', seed=0, budget=0.0),\n",
              "              RunValue(cost=1.0, time=34.80218505859375, status=<StatusType.TIMEOUT: 2>, starttime=1610651566.3576636, endtime=1610651602.2589242, additional_info={'error': 'Timeout', 'configuration_origin': 'Random Search'})),\n",
              "             (RunKey(config_id=179, instance_id='{\"task_id\": \"98b85bc476de34e3b5187670f5f8e445\"}', seed=0, budget=0.0),\n",
              "              RunValue(cost=0.8285989323293355, time=11.782392263412476, status=<StatusType.SUCCESS: 1>, starttime=1610651600.4668822, endtime=1610651612.6242523, additional_info={'duration': 7.577726364135742, 'num_run': 180, 'train_loss': 0.798977443703858, 'configuration_origin': 'Local Search'})),\n",
              "             (RunKey(config_id=180, instance_id='{\"task_id\": \"98b85bc476de34e3b5187670f5f8e445\"}', seed=0, budget=0.0),\n",
              "              RunValue(cost=0.8328559051985118, time=11.891258001327515, status=<StatusType.SUCCESS: 1>, starttime=1610651624.1411376, endtime=1610651636.6567156, additional_info={'duration': 8.149377822875977, 'num_run': 181, 'train_loss': 0.8032195940170296, 'configuration_origin': 'Local Search'})),\n",
              "             (RunKey(config_id=181, instance_id='{\"task_id\": \"98b85bc476de34e3b5187670f5f8e445\"}', seed=0, budget=0.0),\n",
              "              RunValue(cost=1.0, time=5.783200025558472, status=<StatusType.MEMOUT: 5>, starttime=1610651628.3849242, endtime=1610651635.8010056, additional_info={'error': 'Memout (used more than 3072 MB).', 'configuration_origin': 'Random Search'})),\n",
              "             (RunKey(config_id=182, instance_id='{\"task_id\": \"98b85bc476de34e3b5187670f5f8e445\"}', seed=0, budget=0.0),\n",
              "              RunValue(cost=1.49000810465329, time=6.520618677139282, status=<StatusType.SUCCESS: 1>, starttime=1610651634.197668, endtime=1610651641.291493, additional_info={'duration': 2.241473436355591, 'num_run': 183, 'train_loss': 0.4982983713154837, 'configuration_origin': 'Random Search'})),\n",
              "             (RunKey(config_id=183, instance_id='{\"task_id\": \"98b85bc476de34e3b5187670f5f8e445\"}', seed=0, budget=0.0),\n",
              "              RunValue(cost=0.9928069646885926, time=12.167138814926147, status=<StatusType.SUCCESS: 1>, starttime=1610651639.0161161, endtime=1610651651.4621665, additional_info={'duration': 8.549453496932983, 'num_run': 184, 'train_loss': 0.9940694397716296, 'configuration_origin': 'Random Search'})),\n",
              "             (RunKey(config_id=184, instance_id='{\"task_id\": \"98b85bc476de34e3b5187670f5f8e445\"}', seed=0, budget=0.0),\n",
              "              RunValue(cost=0.8552567309017945, time=9.834684371948242, status=<StatusType.SUCCESS: 1>, starttime=1610651661.3275013, endtime=1610651671.6134133, additional_info={'duration': 6.211373329162598, 'num_run': 185, 'train_loss': 0.8233683134120162, 'configuration_origin': 'Local Search'})),\n",
              "             (RunKey(config_id=185, instance_id='{\"task_id\": \"98b85bc476de34e3b5187670f5f8e445\"}', seed=0, budget=0.0),\n",
              "              RunValue(cost=1.0223387981815637, time=7.205079555511475, status=<StatusType.SUCCESS: 1>, starttime=1610651665.8843431, endtime=1610651673.3579557, additional_info={'duration': 3.806734323501587, 'num_run': 186, 'train_loss': 0.963466601973289, 'configuration_origin': 'Random Search'})),\n",
              "             (RunKey(config_id=186, instance_id='{\"task_id\": \"98b85bc476de34e3b5187670f5f8e445\"}', seed=0, budget=0.0),\n",
              "              RunValue(cost=0.8489937333519095, time=14.159449338912964, status=<StatusType.SUCCESS: 1>, starttime=1610651686.7325487, endtime=1610651701.51363, additional_info={'duration': 10.068729400634766, 'num_run': 187, 'train_loss': 0.8270800084821602, 'configuration_origin': 'Local Search'})),\n",
              "             (RunKey(config_id=187, instance_id='{\"task_id\": \"98b85bc476de34e3b5187670f5f8e445\"}', seed=0, budget=0.0),\n",
              "              RunValue(cost=10.56334996417687, time=22.39862871170044, status=<StatusType.SUCCESS: 1>, starttime=1610651691.448828, endtime=1610651714.2788906, additional_info={'duration': 17.987294912338257, 'num_run': 188, 'train_loss': 10.759972871444804, 'configuration_origin': 'Random Search'})),\n",
              "             (RunKey(config_id=188, instance_id='{\"task_id\": \"98b85bc476de34e3b5187670f5f8e445\"}', seed=0, budget=0.0),\n",
              "              RunValue(cost=1.0, time=35.090333461761475, status=<StatusType.TIMEOUT: 2>, starttime=1610651697.3295355, endtime=1610651733.6069968, additional_info={'error': 'Timeout', 'configuration_origin': 'Random Search'})),\n",
              "             (RunKey(config_id=189, instance_id='{\"task_id\": \"98b85bc476de34e3b5187670f5f8e445\"}', seed=0, budget=0.0),\n",
              "              RunValue(cost=0.8542976233263214, time=12.310006618499756, status=<StatusType.SUCCESS: 1>, starttime=1610651725.3076744, endtime=1610651738.1307805, additional_info={'duration': 7.72400975227356, 'num_run': 190, 'train_loss': 0.8227486788910954, 'configuration_origin': 'Local Search'})),\n",
              "             (RunKey(config_id=190, instance_id='{\"task_id\": \"98b85bc476de34e3b5187670f5f8e445\"}', seed=0, budget=0.0),\n",
              "              RunValue(cost=1.0, time=5.401221752166748, status=<StatusType.MEMOUT: 5>, starttime=1610651732.0423021, endtime=1610651739.08998, additional_info={'error': 'Memout (used more than 3072 MB).', 'configuration_origin': 'Random Search'})),\n",
              "             (RunKey(config_id=191, instance_id='{\"task_id\": \"98b85bc476de34e3b5187670f5f8e445\"}', seed=0, budget=0.0),\n",
              "              RunValue(cost=1.002838862709363, time=10.149681091308594, status=<StatusType.SUCCESS: 1>, starttime=1610651738.2572086, endtime=1610651749.2147195, additional_info={'duration': 7.465821743011475, 'num_run': 192, 'train_loss': 0.9865385896356601, 'configuration_origin': 'Random Search'})),\n",
              "             (RunKey(config_id=192, instance_id='{\"task_id\": \"98b85bc476de34e3b5187670f5f8e445\"}', seed=0, budget=0.0),\n",
              "              RunValue(cost=1.0, time=34.72146511077881, status=<StatusType.TIMEOUT: 2>, starttime=1610651742.0008109, endtime=1610651777.738262, additional_info={'error': 'Timeout', 'configuration_origin': 'Random Search'})),\n",
              "             (RunKey(config_id=193, instance_id='{\"task_id\": \"98b85bc476de34e3b5187670f5f8e445\"}', seed=0, budget=0.0),\n",
              "              RunValue(cost=1.0, time=34.642117500305176, status=<StatusType.TIMEOUT: 2>, starttime=1610651748.4669752, endtime=1610651784.1219776, additional_info={'error': 'Timeout', 'configuration_origin': 'Random Search'})),\n",
              "             (RunKey(config_id=194, instance_id='{\"task_id\": \"98b85bc476de34e3b5187670f5f8e445\"}', seed=0, budget=0.0),\n",
              "              RunValue(cost=1.0, time=34.889440298080444, status=<StatusType.TIMEOUT: 2>, starttime=1610651754.8871284, endtime=1610651790.8462777, additional_info={'error': 'Timeout', 'configuration_origin': 'Random Search'})),\n",
              "             (RunKey(config_id=195, instance_id='{\"task_id\": \"98b85bc476de34e3b5187670f5f8e445\"}', seed=0, budget=0.0),\n",
              "              RunValue(cost=0.8328559051985118, time=7.471270322799683, status=<StatusType.SUCCESS: 1>, starttime=1610651792.3368366, endtime=1610651800.087945, additional_info={'duration': 4.608291149139404, 'num_run': 196, 'train_loss': 0.8032195940170296, 'configuration_origin': 'Local Search'})),\n",
              "             (RunKey(config_id=196, instance_id='{\"task_id\": \"98b85bc476de34e3b5187670f5f8e445\"}', seed=0, budget=0.0),\n",
              "              RunValue(cost=10.56334996417687, time=18.13636302947998, status=<StatusType.SUCCESS: 1>, starttime=1610651814.1260142, endtime=1610651832.5074043, additional_info={'duration': 14.394296407699585, 'num_run': 197, 'train_loss': 10.759972871444804, 'configuration_origin': 'Local Search'})),\n",
              "             (RunKey(config_id=197, instance_id='{\"task_id\": \"98b85bc476de34e3b5187670f5f8e445\"}', seed=0, budget=0.0),\n",
              "              RunValue(cost=1.0, time=32.96598196029663, status=<StatusType.TIMEOUT: 2>, starttime=1610651841.2345662, endtime=1610651875.223895, additional_info={'error': 'Timeout', 'configuration_origin': 'Local Search'})),\n",
              "             (RunKey(config_id=198, instance_id='{\"task_id\": \"98b85bc476de34e3b5187670f5f8e445\"}', seed=0, budget=0.0),\n",
              "              RunValue(cost=1.0, time=34.12342071533203, status=<StatusType.TIMEOUT: 2>, starttime=1610651846.3662684, endtime=1610651881.5027049, additional_info={'error': 'Timeout', 'configuration_origin': 'Random Search'})),\n",
              "             (RunKey(config_id=199, instance_id='{\"task_id\": \"98b85bc476de34e3b5187670f5f8e445\"}', seed=0, budget=0.0),\n",
              "              RunValue(cost=1.000020189030707, time=7.549948692321777, status=<StatusType.SUCCESS: 1>, starttime=1610651852.2357993, endtime=1610651860.5958366, additional_info={'duration': 1.7366604804992676, 'num_run': 200, 'train_loss': 1.0000000000000038, 'configuration_origin': 'Random Search'})),\n",
              "             (RunKey(config_id=200, instance_id='{\"task_id\": \"98b85bc476de34e3b5187670f5f8e445\"}', seed=0, budget=0.0),\n",
              "              RunValue(cost=0.9286436330431717, time=19.46763586997986, status=<StatusType.SUCCESS: 1>, starttime=1610651860.002906, endtime=1610651879.711487, additional_info={'duration': 13.783468008041382, 'num_run': 201, 'train_loss': 0.904405752172271, 'configuration_origin': 'Random Search'})),\n",
              "             (RunKey(config_id=201, instance_id='{\"task_id\": \"98b85bc476de34e3b5187670f5f8e445\"}', seed=0, budget=0.0),\n",
              "              RunValue(cost=0.8290926389328965, time=10.517217636108398, status=<StatusType.SUCCESS: 1>, starttime=1610651890.6802757, endtime=1610651901.707923, additional_info={'duration': 7.426945924758911, 'num_run': 202, 'train_loss': 0.7994234525061409, 'configuration_origin': 'Local Search'})),\n",
              "             (RunKey(config_id=202, instance_id='{\"task_id\": \"98b85bc476de34e3b5187670f5f8e445\"}', seed=0, budget=0.0),\n",
              "              RunValue(cost=0.9956576838282944, time=23.151620626449585, status=<StatusType.SUCCESS: 1>, starttime=1610651895.8699613, endtime=1610651919.2408268, additional_info={'duration': 19.85017442703247, 'num_run': 203, 'train_loss': 0.9962381228058241, 'configuration_origin': 'Random Search'})),\n",
              "             (RunKey(config_id=203, instance_id='{\"task_id\": \"98b85bc476de34e3b5187670f5f8e445\"}', seed=0, budget=0.0),\n",
              "              RunValue(cost=1.0, time=4.568776369094849, status=<StatusType.MEMOUT: 5>, starttime=1610651901.3894937, endtime=1610651907.5259812, additional_info={'error': 'Memout (used more than 3072 MB).', 'configuration_origin': 'Random Search'})),\n",
              "             (RunKey(config_id=204, instance_id='{\"task_id\": \"98b85bc476de34e3b5187670f5f8e445\"}', seed=0, budget=0.0),\n",
              "              RunValue(cost=0.9950293123697483, time=25.617557048797607, status=<StatusType.SUCCESS: 1>, starttime=1610651927.789382, endtime=1610651953.7936163, additional_info={'duration': 21.956024169921875, 'num_run': 205, 'train_loss': 0.9944176835061825, 'configuration_origin': 'Local Search'})),\n",
              "             (RunKey(config_id=205, instance_id='{\"task_id\": \"98b85bc476de34e3b5187670f5f8e445\"}', seed=0, budget=0.0),\n",
              "              RunValue(cost=1.0, time=34.471041679382324, status=<StatusType.TIMEOUT: 2>, starttime=1610651932.865502, endtime=1610651968.3481035, additional_info={'error': 'Timeout', 'configuration_origin': 'Random Search'})),\n",
              "             (RunKey(config_id=206, instance_id='{\"task_id\": \"98b85bc476de34e3b5187670f5f8e445\"}', seed=0, budget=0.0),\n",
              "              RunValue(cost=1.0505546506499972, time=6.755962371826172, status=<StatusType.SUCCESS: 1>, starttime=1610651939.590564, endtime=1610651946.7963653, additional_info={'duration': 1.2740294933319092, 'num_run': 207, 'train_loss': 1.0514386661036945, 'configuration_origin': 'Random Search'})),\n",
              "             (RunKey(config_id=207, instance_id='{\"task_id\": \"98b85bc476de34e3b5187670f5f8e445\"}', seed=0, budget=0.0),\n",
              "              RunValue(cost=0.9880341047780036, time=24.970091104507446, status=<StatusType.SUCCESS: 1>, starttime=1610651969.8336458, endtime=1610651995.0733805, additional_info={'duration': 21.362852096557617, 'num_run': 208, 'train_loss': 0.9879814723728896, 'configuration_origin': 'Local Search'})),\n",
              "             (RunKey(config_id=208, instance_id='{\"task_id\": \"98b85bc476de34e3b5187670f5f8e445\"}', seed=0, budget=0.0),\n",
              "              RunValue(cost=1.0, time=33.43744874000549, status=<StatusType.TIMEOUT: 2>, starttime=1610652000.1517944, endtime=1610652034.6139314, additional_info={'error': 'Timeout', 'configuration_origin': 'Local Search'})),\n",
              "             (RunKey(config_id=209, instance_id='{\"task_id\": \"98b85bc476de34e3b5187670f5f8e445\"}', seed=0, budget=0.0),\n",
              "              RunValue(cost=1.0, time=33.848817348480225, status=<StatusType.TIMEOUT: 2>, starttime=1610652029.5929, endtime=1610652064.4569345, additional_info={'error': 'Timeout', 'configuration_origin': 'Local Search'})),\n",
              "             (RunKey(config_id=210, instance_id='{\"task_id\": \"98b85bc476de34e3b5187670f5f8e445\"}', seed=0, budget=0.0),\n",
              "              RunValue(cost=19.768802159913328, time=22.134758710861206, status=<StatusType.SUCCESS: 1>, starttime=1610652064.5699317, endtime=1610652087.0208673, additional_info={'duration': 18.214091539382935, 'num_run': 211, 'train_loss': 20.018942021853462, 'configuration_origin': 'Local Search'})),\n",
              "             (RunKey(config_id=211, instance_id='{\"task_id\": \"98b85bc476de34e3b5187670f5f8e445\"}', seed=0, budget=0.0),\n",
              "              RunValue(cost=1.0, time=33.56628751754761, status=<StatusType.TIMEOUT: 2>, starttime=1610652095.1035433, endtime=1610652129.6877031, additional_info={'error': 'Timeout', 'configuration_origin': 'Local Search'})),\n",
              "             (RunKey(config_id=212, instance_id='{\"task_id\": \"98b85bc476de34e3b5187670f5f8e445\"}', seed=0, budget=0.0),\n",
              "              RunValue(cost=1.0, time=8.355323076248169, status=<StatusType.MEMOUT: 5>, starttime=1610652100.3898554, endtime=1610652110.2079575, additional_info={'error': 'Memout (used more than 3072 MB).', 'configuration_origin': 'Random Search'})),\n",
              "             (RunKey(config_id=213, instance_id='{\"task_id\": \"98b85bc476de34e3b5187670f5f8e445\"}', seed=0, budget=0.0),\n",
              "              RunValue(cost=10.56334996417687, time=16.403130292892456, status=<StatusType.SUCCESS: 1>, starttime=1610652132.57406, endtime=1610652149.2448647, additional_info={'duration': 13.086790561676025, 'num_run': 214, 'train_loss': 10.759972871444804, 'configuration_origin': 'Local Search'})),\n",
              "             (RunKey(config_id=214, instance_id='{\"task_id\": \"98b85bc476de34e3b5187670f5f8e445\"}', seed=0, budget=0.0),\n",
              "              RunValue(cost=1.0, time=4.532647371292114, status=<StatusType.MEMOUT: 5>, starttime=1610652137.8664818, endtime=1610652143.8629935, additional_info={'error': 'Memout (used more than 3072 MB).', 'configuration_origin': 'Random Search'})),\n",
              "             (RunKey(config_id=215, instance_id='{\"task_id\": \"98b85bc476de34e3b5187670f5f8e445\"}', seed=0, budget=0.0),\n",
              "              RunValue(cost=10.56334996417687, time=32.502650022506714, status=<StatusType.SUCCESS: 1>, starttime=1610652160.196554, endtime=1610652192.9956095, additional_info={'duration': 29.592047452926636, 'num_run': 216, 'train_loss': 10.759972871444804, 'configuration_origin': 'Local Search'})),\n",
              "             (RunKey(config_id=216, instance_id='{\"task_id\": \"98b85bc476de34e3b5187670f5f8e445\"}', seed=0, budget=0.0),\n",
              "              RunValue(cost=0.9826237661588479, time=23.18408727645874, status=<StatusType.SUCCESS: 1>, starttime=1610652195.7634099, endtime=1610652219.2456512, additional_info={'duration': 19.94301414489746, 'num_run': 217, 'train_loss': 0.9809003857915465, 'configuration_origin': 'Local Search'})),\n",
              "             (RunKey(config_id=217, instance_id='{\"task_id\": \"98b85bc476de34e3b5187670f5f8e445\"}', seed=0, budget=0.0),\n",
              "              RunValue(cost=1.0, time=33.386515378952026, status=<StatusType.TIMEOUT: 2>, starttime=1610652223.0262766, endtime=1610652257.4394548, additional_info={'error': 'Timeout', 'configuration_origin': 'Local Search'})),\n",
              "             (RunKey(config_id=218, instance_id='{\"task_id\": \"98b85bc476de34e3b5187670f5f8e445\"}', seed=0, budget=0.0),\n",
              "              RunValue(cost=1.0, time=33.261473417282104, status=<StatusType.TIMEOUT: 2>, starttime=1610652245.9706967, endtime=1610652280.2458951, additional_info={'error': 'Timeout', 'configuration_origin': 'Local Search'})),\n",
              "             (RunKey(config_id=219, instance_id='{\"task_id\": \"98b85bc476de34e3b5187670f5f8e445\"}', seed=0, budget=0.0),\n",
              "              RunValue(cost=0.9991320622521332, time=6.041482448577881, status=<StatusType.SUCCESS: 1>, starttime=1610652250.5123339, endtime=1610652257.0026114, additional_info={'duration': 2.036278009414673, 'num_run': 220, 'train_loss': 0.9990746740610941, 'configuration_origin': 'Random Search'})),\n",
              "             (RunKey(config_id=220, instance_id='{\"task_id\": \"98b85bc476de34e3b5187670f5f8e445\"}', seed=0, budget=0.0),\n",
              "              RunValue(cost=1.0, time=5.636557579040527, status=<StatusType.MEMOUT: 5>, starttime=1610652257.0774915, endtime=1610652264.329244, additional_info={'error': 'Memout (used more than 3072 MB).', 'configuration_origin': 'Random Search'})),\n",
              "             (RunKey(config_id=221, instance_id='{\"task_id\": \"98b85bc476de34e3b5187670f5f8e445\"}', seed=0, budget=0.0),\n",
              "              RunValue(cost=0.9288677047153571, time=5.386245012283325, status=<StatusType.SUCCESS: 1>, starttime=1610652263.8690226, endtime=1610652269.7532752, additional_info={'duration': 1.7713286876678467, 'num_run': 222, 'train_loss': 0.6814700119539921, 'configuration_origin': 'Random Search'})),\n",
              "             (RunKey(config_id=222, instance_id='{\"task_id\": \"98b85bc476de34e3b5187670f5f8e445\"}', seed=0, budget=0.0),\n",
              "              RunValue(cost=1.0, time=33.49757170677185, status=<StatusType.TIMEOUT: 2>, starttime=1610652286.7639966, endtime=1610652321.283956, additional_info={'error': 'Timeout', 'configuration_origin': 'Local Search'})),\n",
              "             (RunKey(config_id=223, instance_id='{\"task_id\": \"98b85bc476de34e3b5187670f5f8e445\"}', seed=0, budget=0.0),\n",
              "              RunValue(cost=1.4042971146770502, time=23.239941596984863, status=<StatusType.SUCCESS: 1>, starttime=1610652310.2606547, endtime=1610652333.7507064, additional_info={'duration': 19.925100088119507, 'num_run': 224, 'train_loss': 1.4172473314771954, 'configuration_origin': 'Local Search'})),\n",
              "             (RunKey(config_id=224, instance_id='{\"task_id\": \"98b85bc476de34e3b5187670f5f8e445\"}', seed=0, budget=0.0),\n",
              "              RunValue(cost=1.0, time=33.53405261039734, status=<StatusType.TIMEOUT: 2>, starttime=1610652338.9349353, endtime=1610652373.4908981, additional_info={'error': 'Timeout', 'configuration_origin': 'Local Search'})),\n",
              "             (RunKey(config_id=225, instance_id='{\"task_id\": \"98b85bc476de34e3b5187670f5f8e445\"}', seed=0, budget=0.0),\n",
              "              RunValue(cost=1.0, time=33.26805114746094, status=<StatusType.TIMEOUT: 2>, starttime=1610652344.3650718, endtime=1610652379.1700761, additional_info={'error': 'Timeout', 'configuration_origin': 'Random Search'})),\n",
              "             (RunKey(config_id=226, instance_id='{\"task_id\": \"98b85bc476de34e3b5187670f5f8e445\"}', seed=0, budget=0.0),\n",
              "              RunValue(cost=0.9999384612804902, time=13.53248643875122, status=<StatusType.SUCCESS: 1>, starttime=1610652350.2836025, endtime=1610652364.60934, additional_info={'duration': 7.850706100463867, 'num_run': 227, 'train_loss': 0.9997925808253071, 'configuration_origin': 'Random Search'})),\n",
              "             (RunKey(config_id=227, instance_id='{\"task_id\": \"98b85bc476de34e3b5187670f5f8e445\"}', seed=0, budget=0.0),\n",
              "              RunValue(cost=1.0, time=37.06799125671387, status=<StatusType.TIMEOUT: 2>, starttime=1610652359.2190766, endtime=1610652397.2988622, additional_info={'error': 'Timeout', 'configuration_origin': 'Random Search'})),\n",
              "             (RunKey(config_id=228, instance_id='{\"task_id\": \"98b85bc476de34e3b5187670f5f8e445\"}', seed=0, budget=0.0),\n",
              "              RunValue(cost=1.0, time=34.84549140930176, status=<StatusType.TIMEOUT: 2>, starttime=1610652390.9082992, endtime=1610652426.7820258, additional_info={'error': 'Timeout', 'configuration_origin': 'Local Search'})),\n",
              "             (RunKey(config_id=229, instance_id='{\"task_id\": \"98b85bc476de34e3b5187670f5f8e445\"}', seed=0, budget=0.0),\n",
              "              RunValue(cost=1.0, time=32.99467992782593, status=<StatusType.TIMEOUT: 2>, starttime=1610652397.51105, endtime=1610652431.538942, additional_info={'error': 'Timeout', 'configuration_origin': 'Random Search'})),\n",
              "             (RunKey(config_id=230, instance_id='{\"task_id\": \"98b85bc476de34e3b5187670f5f8e445\"}', seed=0, budget=0.0),\n",
              "              RunValue(cost=0.8329056747950561, time=32.286951303482056, status=<StatusType.SUCCESS: 1>, starttime=1610652403.1632335, endtime=1610652435.7469637, additional_info={'duration': 27.246745109558105, 'num_run': 231, 'train_loss': 0.8118527509027157, 'configuration_origin': 'Random Search'})),\n",
              "             (RunKey(config_id=231, instance_id='{\"task_id\": \"98b85bc476de34e3b5187670f5f8e445\"}', seed=0, budget=0.0),\n",
              "              RunValue(cost=1.000662494963064, time=18.712423086166382, status=<StatusType.SUCCESS: 1>, starttime=1610652438.6553667, endtime=1610652457.6122706, additional_info={'duration': 15.28209376335144, 'num_run': 232, 'train_loss': 1.0009299910336025, 'configuration_origin': 'Local Search'})),\n",
              "             (RunKey(config_id=232, instance_id='{\"task_id\": \"98b85bc476de34e3b5187670f5f8e445\"}', seed=0, budget=0.0),\n",
              "              RunValue(cost=0.9972287320456329, time=17.858816623687744, status=<StatusType.SUCCESS: 1>, starttime=1610652463.312091, endtime=1610652481.4485939, additional_info={'duration': 14.813308000564575, 'num_run': 233, 'train_loss': 0.9979379211908818, 'configuration_origin': 'Local Search'})),\n",
              "             (RunKey(config_id=233, instance_id='{\"task_id\": \"98b85bc476de34e3b5187670f5f8e445\"}', seed=0, budget=0.0),\n",
              "              RunValue(cost=20.852778427181295, time=22.67036008834839, status=<StatusType.SUCCESS: 1>, starttime=1610652488.0914388, endtime=1610652511.0681758, additional_info={'duration': 19.342162132263184, 'num_run': 234, 'train_loss': 21.24051186376909, 'configuration_origin': 'Local Search'})),\n",
              "             (RunKey(config_id=234, instance_id='{\"task_id\": \"98b85bc476de34e3b5187670f5f8e445\"}', seed=0, budget=0.0),\n",
              "              RunValue(cost=1.0036220808717404, time=5.200500726699829, status=<StatusType.SUCCESS: 1>, starttime=1610652493.7816682, endtime=1610652499.6386573, additional_info={'duration': 1.461179494857788, 'num_run': 235, 'train_loss': 1.0031561125391584, 'configuration_origin': 'Random Search'})),\n",
              "             (RunKey(config_id=235, instance_id='{\"task_id\": \"98b85bc476de34e3b5187670f5f8e445\"}', seed=0, budget=0.0),\n",
              "              RunValue(cost=0.9954668218335678, time=6.186729431152344, status=<StatusType.SUCCESS: 1>, starttime=1610652500.0129187, endtime=1610652506.671364, additional_info={'duration': 1.739126443862915, 'num_run': 236, 'train_loss': 0.9944633497892315, 'configuration_origin': 'Random Search'})),\n",
              "             (RunKey(config_id=236, instance_id='{\"task_id\": \"98b85bc476de34e3b5187670f5f8e445\"}', seed=0, budget=0.0),\n",
              "              RunValue(cost=0.8953571703075506, time=4.5386364459991455, status=<StatusType.SUCCESS: 1>, starttime=1610652507.6667166, endtime=1610652512.4237132, additional_info={'duration': 0.9065980911254883, 'num_run': 237, 'train_loss': 0.8786466625599397, 'configuration_origin': 'Random Search'})),\n",
              "             (RunKey(config_id=237, instance_id='{\"task_id\": \"98b85bc476de34e3b5187670f5f8e445\"}', seed=0, budget=0.0),\n",
              "              RunValue(cost=1.0, time=24.165868282318115, status=<StatusType.TIMEOUT: 2>, starttime=1610652512.755671, endtime=1610652538.0732646, additional_info={'error': 'Timeout', 'configuration_origin': 'Random Search'})),\n",
              "             (RunKey(config_id=238, instance_id='{\"task_id\": \"98b85bc476de34e3b5187670f5f8e445\"}', seed=0, budget=0.0),\n",
              "              RunValue(cost=1.0, time=19.66501760482788, status=<StatusType.TIMEOUT: 2>, starttime=1610652518.3471918, endtime=1610652539.026041, additional_info={'error': 'Timeout', 'configuration_origin': 'Random Search'}))])"
            ]
          },
          "metadata": {
            "tags": []
          },
          "execution_count": 59
        }
      ]
    },
    {
      "cell_type": "code",
      "metadata": {
        "id": "XzqvsAUSywNq"
      },
      "source": [
        "import pandas as pd\n",
        "\n",
        "ensemble_performance_frame = pd.DataFrame(model.automl_.ensemble_performance_history)"
      ],
      "execution_count": null,
      "outputs": []
    },
    {
      "cell_type": "code",
      "metadata": {
        "colab": {
          "base_uri": "https://localhost:8080/",
          "height": 419
        },
        "id": "NHNVuDqEy21n",
        "outputId": "7989c919-772d-47f3-aae3-32706f5f46b5"
      },
      "source": [
        "ensemble_performance_frame"
      ],
      "execution_count": null,
      "outputs": [
        {
          "output_type": "execute_result",
          "data": {
            "text/html": [
              "<div>\n",
              "<style scoped>\n",
              "    .dataframe tbody tr th:only-of-type {\n",
              "        vertical-align: middle;\n",
              "    }\n",
              "\n",
              "    .dataframe tbody tr th {\n",
              "        vertical-align: top;\n",
              "    }\n",
              "\n",
              "    .dataframe thead th {\n",
              "        text-align: right;\n",
              "    }\n",
              "</style>\n",
              "<table border=\"1\" class=\"dataframe\">\n",
              "  <thead>\n",
              "    <tr style=\"text-align: right;\">\n",
              "      <th></th>\n",
              "      <th>Timestamp</th>\n",
              "      <th>ensemble_optimization_score</th>\n",
              "    </tr>\n",
              "  </thead>\n",
              "  <tbody>\n",
              "    <tr>\n",
              "      <th>0</th>\n",
              "      <td>2021-01-14 18:29:59.071398</td>\n",
              "      <td>-0.000020</td>\n",
              "    </tr>\n",
              "    <tr>\n",
              "      <th>1</th>\n",
              "      <td>2021-01-14 18:30:24.921803</td>\n",
              "      <td>0.001117</td>\n",
              "    </tr>\n",
              "    <tr>\n",
              "      <th>2</th>\n",
              "      <td>2021-01-14 18:31:00.361686</td>\n",
              "      <td>0.017356</td>\n",
              "    </tr>\n",
              "    <tr>\n",
              "      <th>3</th>\n",
              "      <td>2021-01-14 18:31:22.981627</td>\n",
              "      <td>0.059274</td>\n",
              "    </tr>\n",
              "    <tr>\n",
              "      <th>4</th>\n",
              "      <td>2021-01-14 18:32:38.791573</td>\n",
              "      <td>0.140459</td>\n",
              "    </tr>\n",
              "    <tr>\n",
              "      <th>...</th>\n",
              "      <td>...</td>\n",
              "      <td>...</td>\n",
              "    </tr>\n",
              "    <tr>\n",
              "      <th>72</th>\n",
              "      <td>2021-01-14 19:15:39.423482</td>\n",
              "      <td>0.172883</td>\n",
              "    </tr>\n",
              "    <tr>\n",
              "      <th>73</th>\n",
              "      <td>2021-01-14 19:15:57.392736</td>\n",
              "      <td>0.172883</td>\n",
              "    </tr>\n",
              "    <tr>\n",
              "      <th>74</th>\n",
              "      <td>2021-01-14 19:17:04.858183</td>\n",
              "      <td>0.172883</td>\n",
              "    </tr>\n",
              "    <tr>\n",
              "      <th>75</th>\n",
              "      <td>2021-01-14 19:19:02.056250</td>\n",
              "      <td>0.172883</td>\n",
              "    </tr>\n",
              "    <tr>\n",
              "      <th>76</th>\n",
              "      <td>2021-01-14 19:27:29.841963</td>\n",
              "      <td>0.174339</td>\n",
              "    </tr>\n",
              "  </tbody>\n",
              "</table>\n",
              "<p>77 rows × 2 columns</p>\n",
              "</div>"
            ],
            "text/plain": [
              "                    Timestamp  ensemble_optimization_score\n",
              "0  2021-01-14 18:29:59.071398                    -0.000020\n",
              "1  2021-01-14 18:30:24.921803                     0.001117\n",
              "2  2021-01-14 18:31:00.361686                     0.017356\n",
              "3  2021-01-14 18:31:22.981627                     0.059274\n",
              "4  2021-01-14 18:32:38.791573                     0.140459\n",
              "..                        ...                          ...\n",
              "72 2021-01-14 19:15:39.423482                     0.172883\n",
              "73 2021-01-14 19:15:57.392736                     0.172883\n",
              "74 2021-01-14 19:17:04.858183                     0.172883\n",
              "75 2021-01-14 19:19:02.056250                     0.172883\n",
              "76 2021-01-14 19:27:29.841963                     0.174339\n",
              "\n",
              "[77 rows x 2 columns]"
            ]
          },
          "metadata": {
            "tags": []
          },
          "execution_count": 57
        }
      ]
    }
  ]
}